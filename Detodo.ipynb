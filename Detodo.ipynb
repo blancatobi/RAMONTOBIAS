{
  "cells": [
    {
      "cell_type": "markdown",
      "metadata": {
        "id": "view-in-github",
        "colab_type": "text"
      },
      "source": [
        "<a href=\"https://colab.research.google.com/github/blancatobi/RAMONTOBIAS/blob/main/Detodo.ipynb\" target=\"_parent\"><img src=\"https://colab.research.google.com/assets/colab-badge.svg\" alt=\"Open In Colab\"/></a>"
      ]
    },
    {
      "cell_type": "markdown",
      "source": [
        "**PROGRAMCION ORIENTADA A OBJETOS**\n"
      ],
      "metadata": {
        "id": "_a2f9Y6Htdmx"
      }
    },
    {
      "cell_type": "markdown",
      "source": [],
      "metadata": {
        "id": "0YfSBDWmtVtJ"
      }
    },
    {
      "cell_type": "code",
      "source": [
        "class MiClase:\n",
        "    def __init__(self, parametro1, parametro2):\n",
        "         self.parametro1 = parametro1\n",
        "         self.parametro2 = parametro2\n",
        "    def presentarse(self):\n",
        "        print(\"Mi resgitro es \", self.parametro1 , self.parametro2)\n",
        "\n",
        "# Crear una instancia de MiClase\n",
        "mi_objeto = MiClase(\"Hola\", 42)\n",
        "\n",
        "# Acceder a los atributos de la instancia\n",
        "mi_objeto.presentarse()\n",
        "  # Imprimirá \"Hola\"\n",
        "# print(mi_objeto.parametro2)  # Imprimirá 42"
      ],
      "metadata": {
        "colab": {
          "base_uri": "https://localhost:8080/"
        },
        "id": "qqKzFj-zt0ka",
        "outputId": "d51bce23-a16e-4963-8cba-8a937a74344d"
      },
      "execution_count": null,
      "outputs": [
        {
          "output_type": "stream",
          "name": "stdout",
          "text": [
            "Mi resgitro es  Hola 42\n"
          ]
        }
      ]
    },
    {
      "cell_type": "code",
      "source": [],
      "metadata": {
        "id": "QOuNxu0xtUiT"
      },
      "execution_count": null,
      "outputs": []
    },
    {
      "cell_type": "code",
      "source": [
        "\n",
        "from google.colab import files\n",
        "load =files.upload()\n",
        "\n",
        "\n",
        "\n"
      ],
      "metadata": {
        "colab": {
          "base_uri": "https://localhost:8080/",
          "height": 73
        },
        "id": "l5LuvrkpEdJP",
        "outputId": "b0ac1eb4-97c0-4d2a-cca3-e71a19875297"
      },
      "execution_count": null,
      "outputs": [
        {
          "output_type": "display_data",
          "data": {
            "text/plain": [
              "<IPython.core.display.HTML object>"
            ],
            "text/html": [
              "\n",
              "     <input type=\"file\" id=\"files-1d938164-7efd-4fbb-9fa3-6bedad61f7d5\" name=\"files[]\" multiple disabled\n",
              "        style=\"border:none\" />\n",
              "     <output id=\"result-1d938164-7efd-4fbb-9fa3-6bedad61f7d5\">\n",
              "      Upload widget is only available when the cell has been executed in the\n",
              "      current browser session. Please rerun this cell to enable.\n",
              "      </output>\n",
              "      <script>// Copyright 2017 Google LLC\n",
              "//\n",
              "// Licensed under the Apache License, Version 2.0 (the \"License\");\n",
              "// you may not use this file except in compliance with the License.\n",
              "// You may obtain a copy of the License at\n",
              "//\n",
              "//      http://www.apache.org/licenses/LICENSE-2.0\n",
              "//\n",
              "// Unless required by applicable law or agreed to in writing, software\n",
              "// distributed under the License is distributed on an \"AS IS\" BASIS,\n",
              "// WITHOUT WARRANTIES OR CONDITIONS OF ANY KIND, either express or implied.\n",
              "// See the License for the specific language governing permissions and\n",
              "// limitations under the License.\n",
              "\n",
              "/**\n",
              " * @fileoverview Helpers for google.colab Python module.\n",
              " */\n",
              "(function(scope) {\n",
              "function span(text, styleAttributes = {}) {\n",
              "  const element = document.createElement('span');\n",
              "  element.textContent = text;\n",
              "  for (const key of Object.keys(styleAttributes)) {\n",
              "    element.style[key] = styleAttributes[key];\n",
              "  }\n",
              "  return element;\n",
              "}\n",
              "\n",
              "// Max number of bytes which will be uploaded at a time.\n",
              "const MAX_PAYLOAD_SIZE = 100 * 1024;\n",
              "\n",
              "function _uploadFiles(inputId, outputId) {\n",
              "  const steps = uploadFilesStep(inputId, outputId);\n",
              "  const outputElement = document.getElementById(outputId);\n",
              "  // Cache steps on the outputElement to make it available for the next call\n",
              "  // to uploadFilesContinue from Python.\n",
              "  outputElement.steps = steps;\n",
              "\n",
              "  return _uploadFilesContinue(outputId);\n",
              "}\n",
              "\n",
              "// This is roughly an async generator (not supported in the browser yet),\n",
              "// where there are multiple asynchronous steps and the Python side is going\n",
              "// to poll for completion of each step.\n",
              "// This uses a Promise to block the python side on completion of each step,\n",
              "// then passes the result of the previous step as the input to the next step.\n",
              "function _uploadFilesContinue(outputId) {\n",
              "  const outputElement = document.getElementById(outputId);\n",
              "  const steps = outputElement.steps;\n",
              "\n",
              "  const next = steps.next(outputElement.lastPromiseValue);\n",
              "  return Promise.resolve(next.value.promise).then((value) => {\n",
              "    // Cache the last promise value to make it available to the next\n",
              "    // step of the generator.\n",
              "    outputElement.lastPromiseValue = value;\n",
              "    return next.value.response;\n",
              "  });\n",
              "}\n",
              "\n",
              "/**\n",
              " * Generator function which is called between each async step of the upload\n",
              " * process.\n",
              " * @param {string} inputId Element ID of the input file picker element.\n",
              " * @param {string} outputId Element ID of the output display.\n",
              " * @return {!Iterable<!Object>} Iterable of next steps.\n",
              " */\n",
              "function* uploadFilesStep(inputId, outputId) {\n",
              "  const inputElement = document.getElementById(inputId);\n",
              "  inputElement.disabled = false;\n",
              "\n",
              "  const outputElement = document.getElementById(outputId);\n",
              "  outputElement.innerHTML = '';\n",
              "\n",
              "  const pickedPromise = new Promise((resolve) => {\n",
              "    inputElement.addEventListener('change', (e) => {\n",
              "      resolve(e.target.files);\n",
              "    });\n",
              "  });\n",
              "\n",
              "  const cancel = document.createElement('button');\n",
              "  inputElement.parentElement.appendChild(cancel);\n",
              "  cancel.textContent = 'Cancel upload';\n",
              "  const cancelPromise = new Promise((resolve) => {\n",
              "    cancel.onclick = () => {\n",
              "      resolve(null);\n",
              "    };\n",
              "  });\n",
              "\n",
              "  // Wait for the user to pick the files.\n",
              "  const files = yield {\n",
              "    promise: Promise.race([pickedPromise, cancelPromise]),\n",
              "    response: {\n",
              "      action: 'starting',\n",
              "    }\n",
              "  };\n",
              "\n",
              "  cancel.remove();\n",
              "\n",
              "  // Disable the input element since further picks are not allowed.\n",
              "  inputElement.disabled = true;\n",
              "\n",
              "  if (!files) {\n",
              "    return {\n",
              "      response: {\n",
              "        action: 'complete',\n",
              "      }\n",
              "    };\n",
              "  }\n",
              "\n",
              "  for (const file of files) {\n",
              "    const li = document.createElement('li');\n",
              "    li.append(span(file.name, {fontWeight: 'bold'}));\n",
              "    li.append(span(\n",
              "        `(${file.type || 'n/a'}) - ${file.size} bytes, ` +\n",
              "        `last modified: ${\n",
              "            file.lastModifiedDate ? file.lastModifiedDate.toLocaleDateString() :\n",
              "                                    'n/a'} - `));\n",
              "    const percent = span('0% done');\n",
              "    li.appendChild(percent);\n",
              "\n",
              "    outputElement.appendChild(li);\n",
              "\n",
              "    const fileDataPromise = new Promise((resolve) => {\n",
              "      const reader = new FileReader();\n",
              "      reader.onload = (e) => {\n",
              "        resolve(e.target.result);\n",
              "      };\n",
              "      reader.readAsArrayBuffer(file);\n",
              "    });\n",
              "    // Wait for the data to be ready.\n",
              "    let fileData = yield {\n",
              "      promise: fileDataPromise,\n",
              "      response: {\n",
              "        action: 'continue',\n",
              "      }\n",
              "    };\n",
              "\n",
              "    // Use a chunked sending to avoid message size limits. See b/62115660.\n",
              "    let position = 0;\n",
              "    do {\n",
              "      const length = Math.min(fileData.byteLength - position, MAX_PAYLOAD_SIZE);\n",
              "      const chunk = new Uint8Array(fileData, position, length);\n",
              "      position += length;\n",
              "\n",
              "      const base64 = btoa(String.fromCharCode.apply(null, chunk));\n",
              "      yield {\n",
              "        response: {\n",
              "          action: 'append',\n",
              "          file: file.name,\n",
              "          data: base64,\n",
              "        },\n",
              "      };\n",
              "\n",
              "      let percentDone = fileData.byteLength === 0 ?\n",
              "          100 :\n",
              "          Math.round((position / fileData.byteLength) * 100);\n",
              "      percent.textContent = `${percentDone}% done`;\n",
              "\n",
              "    } while (position < fileData.byteLength);\n",
              "  }\n",
              "\n",
              "  // All done.\n",
              "  yield {\n",
              "    response: {\n",
              "      action: 'complete',\n",
              "    }\n",
              "  };\n",
              "}\n",
              "\n",
              "scope.google = scope.google || {};\n",
              "scope.google.colab = scope.google.colab || {};\n",
              "scope.google.colab._files = {\n",
              "  _uploadFiles,\n",
              "  _uploadFilesContinue,\n",
              "};\n",
              "})(self);\n",
              "</script> "
            ]
          },
          "metadata": {}
        },
        {
          "output_type": "stream",
          "name": "stdout",
          "text": [
            "Saving Divorcios_En_Colombia_20231024.csv to Divorcios_En_Colombia_20231024.csv\n"
          ]
        }
      ]
    },
    {
      "cell_type": "markdown",
      "metadata": {
        "id": "R_cRN0788vDC"
      },
      "source": [
        "# CARGAR ARCHIVO CSV"
      ]
    },
    {
      "cell_type": "markdown",
      "source": [],
      "metadata": {
        "id": "9RYCSr0XtYia"
      }
    },
    {
      "cell_type": "code",
      "source": [
        "from pandas.core.frame import DataFrame\n",
        "import pandas as pd\n",
        "import matplotlib.pyplot as plt\n",
        "# Ralizamos la lectura del archivo Divorcios_En_Colombia_20231024.csv por medio\n",
        "#del metod read_csv\n",
        "df = pd.read_csv('Divorcios_En_Colombia_20231024.csv')\n",
        "# Asignacion de los campos en el eje x y eje y\n",
        "y = df['Divorcios']\n",
        "x = df['Departamento']\n",
        "#  Consultar cual es el  numero mayor divorcios en colombia\n",
        "max_divorcios = df['Divorcios'].max()\n",
        "print(\"El valor totoal de los divorcios es \",max_divorcios)\n",
        "#   Consultar cual es el  numero mayor divorcios por departamento colombia\n",
        "max_departamento = df['Departamento'].max()\n",
        "print(\"Departamento donde existen mas divorcios\",max_departamento)\n",
        "\n",
        "# Crear un grafico de barras\n",
        "plt.bar(x,y, color = 'skyblue')\n",
        "\n",
        "# Personalizar el grafico\n",
        "\n",
        "plt.ylabel('Divorcios')\n",
        "plt.xlabel('Departamento')\n",
        "plt.title('los mas divorciados ')\n",
        "plt.ylim(0,1000)\n",
        "\n",
        "#  Consultar cual es el  numero minimo divorcios en colombia\n",
        "min_divorcios = df['Divorcios'].min()\n",
        "print(\"Departamento donde existen minimos  divorcios\", min_divorcios)\n",
        "\n",
        "diAn = df.loc[df['Departamento'] == 'ANTIOQUIA', ['Divorcios']]\n",
        "print(\"La suma del departamento de antioquia es de \",diAn.max())\n"
      ],
      "metadata": {
        "colab": {
          "base_uri": "https://localhost:8080/",
          "height": 560
        },
        "id": "7CaPavVfJZNd",
        "outputId": "ad205746-d7c4-46d5-a264-4bd51337fbfc"
      },
      "execution_count": null,
      "outputs": [
        {
          "output_type": "stream",
          "name": "stdout",
          "text": [
            "El valor totoal de los divorcios es  668\n",
            "Departamento donde existen mas divorcios VICHADA\n",
            "Departamento donde existen minimos  divorcios 0\n",
            "La suma del departamento de antioquia es de  Divorcios    180\n",
            "dtype: int64\n"
          ]
        },
        {
          "output_type": "display_data",
          "data": {
            "text/plain": [
              "<Figure size 640x480 with 1 Axes>"
            ],
            "image/png": "[encoded data removed]"
          },
          "metadata": {}
        }
      ]
    },
    {
      "cell_type": "code",
      "execution_count": null,
      "metadata": {
        "colab": {
          "background_save": true,
          "base_uri": "https://localhost:8080/"
        },
        "id": "dSzuM6OiLVda",
        "outputId": "c1062480-da3e-4954-9714-cc29bbe9ecb3"
      },
      "outputs": [
        {
          "data": {
            "text/html": [
              "\n",
              "     <input type=\"file\" id=\"files-e9e52be9-de21-41b0-ae53-a7d4db668288\" name=\"files[]\" multiple disabled\n",
              "        style=\"border:none\" />\n",
              "     <output id=\"result-e9e52be9-de21-41b0-ae53-a7d4db668288\">\n",
              "      Upload widget is only available when the cell has been executed in the\n",
              "      current browser session. Please rerun this cell to enable.\n",
              "      </output>\n",
              "      <script>// Copyright 2017 Google LLC\n",
              "//\n",
              "// Licensed under the Apache License, Version 2.0 (the \"License\");\n",
              "// you may not use this file except in compliance with the License.\n",
              "// You may obtain a copy of the License at\n",
              "//\n",
              "//      http://www.apache.org/licenses/LICENSE-2.0\n",
              "//\n",
              "// Unless required by applicable law or agreed to in writing, software\n",
              "// distributed under the License is distributed on an \"AS IS\" BASIS,\n",
              "// WITHOUT WARRANTIES OR CONDITIONS OF ANY KIND, either express or implied.\n",
              "// See the License for the specific language governing permissions and\n",
              "// limitations under the License.\n",
              "\n",
              "/**\n",
              " * @fileoverview Helpers for google.colab Python module.\n",
              " */\n",
              "(function(scope) {\n",
              "function span(text, styleAttributes = {}) {\n",
              "  const element = document.createElement('span');\n",
              "  element.textContent = text;\n",
              "  for (const key of Object.keys(styleAttributes)) {\n",
              "    element.style[key] = styleAttributes[key];\n",
              "  }\n",
              "  return element;\n",
              "}\n",
              "\n",
              "// Max number of bytes which will be uploaded at a time.\n",
              "const MAX_PAYLOAD_SIZE = 100 * 1024;\n",
              "\n",
              "function _uploadFiles(inputId, outputId) {\n",
              "  const steps = uploadFilesStep(inputId, outputId);\n",
              "  const outputElement = document.getElementById(outputId);\n",
              "  // Cache steps on the outputElement to make it available for the next call\n",
              "  // to uploadFilesContinue from Python.\n",
              "  outputElement.steps = steps;\n",
              "\n",
              "  return _uploadFilesContinue(outputId);\n",
              "}\n",
              "\n",
              "// This is roughly an async generator (not supported in the browser yet),\n",
              "// where there are multiple asynchronous steps and the Python side is going\n",
              "// to poll for completion of each step.\n",
              "// This uses a Promise to block the python side on completion of each step,\n",
              "// then passes the result of the previous step as the input to the next step.\n",
              "function _uploadFilesContinue(outputId) {\n",
              "  const outputElement = document.getElementById(outputId);\n",
              "  const steps = outputElement.steps;\n",
              "\n",
              "  const next = steps.next(outputElement.lastPromiseValue);\n",
              "  return Promise.resolve(next.value.promise).then((value) => {\n",
              "    // Cache the last promise value to make it available to the next\n",
              "    // step of the generator.\n",
              "    outputElement.lastPromiseValue = value;\n",
              "    return next.value.response;\n",
              "  });\n",
              "}\n",
              "\n",
              "/**\n",
              " * Generator function which is called between each async step of the upload\n",
              " * process.\n",
              " * @param {string} inputId Element ID of the input file picker element.\n",
              " * @param {string} outputId Element ID of the output display.\n",
              " * @return {!Iterable<!Object>} Iterable of next steps.\n",
              " */\n",
              "function* uploadFilesStep(inputId, outputId) {\n",
              "  const inputElement = document.getElementById(inputId);\n",
              "  inputElement.disabled = false;\n",
              "\n",
              "  const outputElement = document.getElementById(outputId);\n",
              "  outputElement.innerHTML = '';\n",
              "\n",
              "  const pickedPromise = new Promise((resolve) => {\n",
              "    inputElement.addEventListener('change', (e) => {\n",
              "      resolve(e.target.files);\n",
              "    });\n",
              "  });\n",
              "\n",
              "  const cancel = document.createElement('button');\n",
              "  inputElement.parentElement.appendChild(cancel);\n",
              "  cancel.textContent = 'Cancel upload';\n",
              "  const cancelPromise = new Promise((resolve) => {\n",
              "    cancel.onclick = () => {\n",
              "      resolve(null);\n",
              "    };\n",
              "  });\n",
              "\n",
              "  // Wait for the user to pick the files.\n",
              "  const files = yield {\n",
              "    promise: Promise.race([pickedPromise, cancelPromise]),\n",
              "    response: {\n",
              "      action: 'starting',\n",
              "    }\n",
              "  };\n",
              "\n",
              "  cancel.remove();\n",
              "\n",
              "  // Disable the input element since further picks are not allowed.\n",
              "  inputElement.disabled = true;\n",
              "\n",
              "  if (!files) {\n",
              "    return {\n",
              "      response: {\n",
              "        action: 'complete',\n",
              "      }\n",
              "    };\n",
              "  }\n",
              "\n",
              "  for (const file of files) {\n",
              "    const li = document.createElement('li');\n",
              "    li.append(span(file.name, {fontWeight: 'bold'}));\n",
              "    li.append(span(\n",
              "        `(${file.type || 'n/a'}) - ${file.size} bytes, ` +\n",
              "        `last modified: ${\n",
              "            file.lastModifiedDate ? file.lastModifiedDate.toLocaleDateString() :\n",
              "                                    'n/a'} - `));\n",
              "    const percent = span('0% done');\n",
              "    li.appendChild(percent);\n",
              "\n",
              "    outputElement.appendChild(li);\n",
              "\n",
              "    const fileDataPromise = new Promise((resolve) => {\n",
              "      const reader = new FileReader();\n",
              "      reader.onload = (e) => {\n",
              "        resolve(e.target.result);\n",
              "      };\n",
              "      reader.readAsArrayBuffer(file);\n",
              "    });\n",
              "    // Wait for the data to be ready.\n",
              "    let fileData = yield {\n",
              "      promise: fileDataPromise,\n",
              "      response: {\n",
              "        action: 'continue',\n",
              "      }\n",
              "    };\n",
              "\n",
              "    // Use a chunked sending to avoid message size limits. See b/62115660.\n",
              "    let position = 0;\n",
              "    do {\n",
              "      const length = Math.min(fileData.byteLength - position, MAX_PAYLOAD_SIZE);\n",
              "      const chunk = new Uint8Array(fileData, position, length);\n",
              "      position += length;\n",
              "\n",
              "      const base64 = btoa(String.fromCharCode.apply(null, chunk));\n",
              "      yield {\n",
              "        response: {\n",
              "          action: 'append',\n",
              "          file: file.name,\n",
              "          data: base64,\n",
              "        },\n",
              "      };\n",
              "\n",
              "      let percentDone = fileData.byteLength === 0 ?\n",
              "          100 :\n",
              "          Math.round((position / fileData.byteLength) * 100);\n",
              "      percent.textContent = `${percentDone}% done`;\n",
              "\n",
              "    } while (position < fileData.byteLength);\n",
              "  }\n",
              "\n",
              "  // All done.\n",
              "  yield {\n",
              "    response: {\n",
              "      action: 'complete',\n",
              "    }\n",
              "  };\n",
              "}\n",
              "\n",
              "scope.google = scope.google || {};\n",
              "scope.google.colab = scope.google.colab || {};\n",
              "scope.google.colab._files = {\n",
              "  _uploadFiles,\n",
              "  _uploadFilesContinue,\n",
              "};\n",
              "})(self);\n",
              "</script> "
            ],
            "text/plain": [
              "<IPython.core.display.HTML object>"
            ]
          },
          "metadata": {},
          "output_type": "display_data"
        }
      ],
      "source": [
        "# https://www.datos.gov.co/Justicia-y-Derecho/vista-divorcios-Guaviare/n3v9-evna\n",
        "\n",
        "\n",
        "from google.colab import files\n",
        "load =files.upload()"
      ]
    },
    {
      "cell_type": "code",
      "execution_count": null,
      "metadata": {
        "colab": {
          "base_uri": "https://localhost:8080/",
          "height": 510
        },
        "id": "n-q38kV8N5hu",
        "outputId": "def90db1-a119-4cf0-ac2c-f5b997e0bf39"
      },
      "outputs": [
        {
          "name": "stdout",
          "output_type": "stream",
          "text": [
            "El maximo de divorsios 668\n",
            "El maximo por departamento VICHADA\n"
          ]
        },
        {
          "data": {
            "image/png": "[encoded data removed]",
            "text/plain": [
              "<Figure size 640x480 with 1 Axes>"
            ]
          },
          "metadata": {},
          "output_type": "display_data"
        }
      ],
      "source": [
        "import pandas as pd\n",
        "\n",
        "df = pd.read_csv('Divorcios_En_Colombia_20231019.csv')\n",
        "\n",
        "y =df['Divorcios']\n",
        "x =df['Departamento']\n",
        "max_divorcios = df['Divorcios'].max()\n",
        "max_departamento = df['Departamento'].max()\n",
        "# plt.scatter(x,y)\n",
        "# plt.show()\n",
        "# df.head()\n",
        "#print(\"El maximo de divorsios\",max_divorcios)\n",
        "\n",
        "\n",
        "# Crear el gráfico de barras\n",
        "plt.bar(x,y, color='skyblue')\n",
        "\n",
        "# Personalizar el gráfico\n",
        "plt.ylabel('Divorcios')\n",
        "plt.xlabel('Departamento')\n",
        "plt.title('LOS MAS VIVORCIADOS')\n",
        "plt.ylim(0, 1000)  # Establecer límites en el eje y\n",
        "\n",
        "\n",
        "print(\"El maximo de divorsios\",max_divorcios)\n",
        "print(\"El maximo por departamento\",max_departamento)\n"
      ]
    },
    {
      "cell_type": "code",
      "execution_count": null,
      "metadata": {
        "colab": {
          "base_uri": "https://localhost:8080/",
          "height": 538
        },
        "id": "4wYz8i63MaBJ",
        "outputId": "ed5fb73e-63ed-4a37-8497-8c591f9d57ee"
      },
      "outputs": [
        {
          "ename": "KeyError",
          "evalue": "ignored",
          "output_type": "error",
          "traceback": [
            "\u001b[0;31m---------------------------------------------------------------------------\u001b[0m",
            "\u001b[0;31mKeyError\u001b[0m                                  Traceback (most recent call last)",
            "\u001b[0;32m/usr/local/lib/python3.10/dist-packages/pandas/core/indexes/base.py\u001b[0m in \u001b[0;36mget_loc\u001b[0;34m(self, key, method, tolerance)\u001b[0m\n\u001b[1;32m   3801\u001b[0m             \u001b[0;32mtry\u001b[0m\u001b[0;34m:\u001b[0m\u001b[0;34m\u001b[0m\u001b[0;34m\u001b[0m\u001b[0m\n\u001b[0;32m-> 3802\u001b[0;31m                 \u001b[0;32mreturn\u001b[0m \u001b[0mself\u001b[0m\u001b[0;34m.\u001b[0m\u001b[0m_engine\u001b[0m\u001b[0;34m.\u001b[0m\u001b[0mget_loc\u001b[0m\u001b[0;34m(\u001b[0m\u001b[0mcasted_key\u001b[0m\u001b[0;34m)\u001b[0m\u001b[0;34m\u001b[0m\u001b[0;34m\u001b[0m\u001b[0m\n\u001b[0m\u001b[1;32m   3803\u001b[0m             \u001b[0;32mexcept\u001b[0m \u001b[0mKeyError\u001b[0m \u001b[0;32mas\u001b[0m \u001b[0merr\u001b[0m\u001b[0;34m:\u001b[0m\u001b[0;34m\u001b[0m\u001b[0;34m\u001b[0m\u001b[0m\n",
            "\u001b[0;32m/usr/local/lib/python3.10/dist-packages/pandas/_libs/index.pyx\u001b[0m in \u001b[0;36mpandas._libs.index.IndexEngine.get_loc\u001b[0;34m()\u001b[0m\n",
            "\u001b[0;32m/usr/local/lib/python3.10/dist-packages/pandas/_libs/index.pyx\u001b[0m in \u001b[0;36mpandas._libs.index.IndexEngine.get_loc\u001b[0;34m()\u001b[0m\n",
            "\u001b[0;32mpandas/_libs/hashtable_class_helper.pxi\u001b[0m in \u001b[0;36mpandas._libs.hashtable.PyObjectHashTable.get_item\u001b[0;34m()\u001b[0m\n",
            "\u001b[0;32mpandas/_libs/hashtable_class_helper.pxi\u001b[0m in \u001b[0;36mpandas._libs.hashtable.PyObjectHashTable.get_item\u001b[0;34m()\u001b[0m\n",
            "\u001b[0;31mKeyError\u001b[0m: 'DOCUMENTO'",
            "\nThe above exception was the direct cause of the following exception:\n",
            "\u001b[0;31mKeyError\u001b[0m                                  Traceback (most recent call last)",
            "\u001b[0;32m<ipython-input-26-169bb80a95c3>\u001b[0m in \u001b[0;36m<cell line: 11>\u001b[0;34m()\u001b[0m\n\u001b[1;32m      9\u001b[0m \u001b[0;31m#plt.bar(COD_CIUDAD, CIUDAD, color='skyblue')\u001b[0m\u001b[0;34m\u001b[0m\u001b[0;34m\u001b[0m\u001b[0m\n\u001b[1;32m     10\u001b[0m \u001b[0;34m\u001b[0m\u001b[0m\n\u001b[0;32m---> 11\u001b[0;31m \u001b[0mx\u001b[0m \u001b[0;34m=\u001b[0m\u001b[0mdf\u001b[0m\u001b[0;34m[\u001b[0m\u001b[0;34m'DOCUMENTO'\u001b[0m\u001b[0;34m]\u001b[0m\u001b[0;34m\u001b[0m\u001b[0;34m\u001b[0m\u001b[0m\n\u001b[0m\u001b[1;32m     12\u001b[0m \u001b[0;31m# y =df['CIUDAD']\u001b[0m\u001b[0;34m\u001b[0m\u001b[0;34m\u001b[0m\u001b[0m\n\u001b[1;32m     13\u001b[0m \u001b[0;31m# plt.scatter(x,y)\u001b[0m\u001b[0;34m\u001b[0m\u001b[0;34m\u001b[0m\u001b[0m\n",
            "\u001b[0;32m/usr/local/lib/python3.10/dist-packages/pandas/core/frame.py\u001b[0m in \u001b[0;36m__getitem__\u001b[0;34m(self, key)\u001b[0m\n\u001b[1;32m   3805\u001b[0m             \u001b[0;32mif\u001b[0m \u001b[0mself\u001b[0m\u001b[0;34m.\u001b[0m\u001b[0mcolumns\u001b[0m\u001b[0;34m.\u001b[0m\u001b[0mnlevels\u001b[0m \u001b[0;34m>\u001b[0m \u001b[0;36m1\u001b[0m\u001b[0;34m:\u001b[0m\u001b[0;34m\u001b[0m\u001b[0;34m\u001b[0m\u001b[0m\n\u001b[1;32m   3806\u001b[0m                 \u001b[0;32mreturn\u001b[0m \u001b[0mself\u001b[0m\u001b[0;34m.\u001b[0m\u001b[0m_getitem_multilevel\u001b[0m\u001b[0;34m(\u001b[0m\u001b[0mkey\u001b[0m\u001b[0;34m)\u001b[0m\u001b[0;34m\u001b[0m\u001b[0;34m\u001b[0m\u001b[0m\n\u001b[0;32m-> 3807\u001b[0;31m             \u001b[0mindexer\u001b[0m \u001b[0;34m=\u001b[0m \u001b[0mself\u001b[0m\u001b[0;34m.\u001b[0m\u001b[0mcolumns\u001b[0m\u001b[0;34m.\u001b[0m\u001b[0mget_loc\u001b[0m\u001b[0;34m(\u001b[0m\u001b[0mkey\u001b[0m\u001b[0;34m)\u001b[0m\u001b[0;34m\u001b[0m\u001b[0;34m\u001b[0m\u001b[0m\n\u001b[0m\u001b[1;32m   3808\u001b[0m             \u001b[0;32mif\u001b[0m \u001b[0mis_integer\u001b[0m\u001b[0;34m(\u001b[0m\u001b[0mindexer\u001b[0m\u001b[0;34m)\u001b[0m\u001b[0;34m:\u001b[0m\u001b[0;34m\u001b[0m\u001b[0;34m\u001b[0m\u001b[0m\n\u001b[1;32m   3809\u001b[0m                 \u001b[0mindexer\u001b[0m \u001b[0;34m=\u001b[0m \u001b[0;34m[\u001b[0m\u001b[0mindexer\u001b[0m\u001b[0;34m]\u001b[0m\u001b[0;34m\u001b[0m\u001b[0;34m\u001b[0m\u001b[0m\n",
            "\u001b[0;32m/usr/local/lib/python3.10/dist-packages/pandas/core/indexes/base.py\u001b[0m in \u001b[0;36mget_loc\u001b[0;34m(self, key, method, tolerance)\u001b[0m\n\u001b[1;32m   3802\u001b[0m                 \u001b[0;32mreturn\u001b[0m \u001b[0mself\u001b[0m\u001b[0;34m.\u001b[0m\u001b[0m_engine\u001b[0m\u001b[0;34m.\u001b[0m\u001b[0mget_loc\u001b[0m\u001b[0;34m(\u001b[0m\u001b[0mcasted_key\u001b[0m\u001b[0;34m)\u001b[0m\u001b[0;34m\u001b[0m\u001b[0;34m\u001b[0m\u001b[0m\n\u001b[1;32m   3803\u001b[0m             \u001b[0;32mexcept\u001b[0m \u001b[0mKeyError\u001b[0m \u001b[0;32mas\u001b[0m \u001b[0merr\u001b[0m\u001b[0;34m:\u001b[0m\u001b[0;34m\u001b[0m\u001b[0;34m\u001b[0m\u001b[0m\n\u001b[0;32m-> 3804\u001b[0;31m                 \u001b[0;32mraise\u001b[0m \u001b[0mKeyError\u001b[0m\u001b[0;34m(\u001b[0m\u001b[0mkey\u001b[0m\u001b[0;34m)\u001b[0m \u001b[0;32mfrom\u001b[0m \u001b[0merr\u001b[0m\u001b[0;34m\u001b[0m\u001b[0;34m\u001b[0m\u001b[0m\n\u001b[0m\u001b[1;32m   3805\u001b[0m             \u001b[0;32mexcept\u001b[0m \u001b[0mTypeError\u001b[0m\u001b[0;34m:\u001b[0m\u001b[0;34m\u001b[0m\u001b[0;34m\u001b[0m\u001b[0m\n\u001b[1;32m   3806\u001b[0m                 \u001b[0;31m# If we have a listlike key, _check_indexing_error will raise\u001b[0m\u001b[0;34m\u001b[0m\u001b[0;34m\u001b[0m\u001b[0m\n",
            "\u001b[0;31mKeyError\u001b[0m: 'DOCUMENTO'"
          ]
        }
      ],
      "source": [
        "import matplotlib.pyplot as plt\n",
        "import pandas as pd\n",
        "df= pd.read_csv('personas.csv')\n",
        "\n",
        "df\n",
        "\n",
        "#df=df[df['COD_CIUDAD']>8]\n",
        "#df\n",
        "#plt.bar(COD_CIUDAD, CIUDAD, color='skyblue')\n",
        "\n",
        "x =df['DOCUMENTO']\n",
        "# y =df['CIUDAD']\n",
        "# plt.scatter(x,y)\n",
        "# plt.show()\n",
        "\n",
        "# print(df.head())\n",
        "\n"
      ]
    },
    {
      "cell_type": "code",
      "execution_count": null,
      "metadata": {
        "colab": {
          "base_uri": "https://localhost:8080/",
          "height": 538
        },
        "id": "a9FU8aJ34wM7",
        "outputId": "866021a8-0e74-4eb3-b4a6-cc5069c1fa14"
      },
      "outputs": [
        {
          "ename": "KeyError",
          "evalue": "ignored",
          "output_type": "error",
          "traceback": [
            "\u001b[0;31m---------------------------------------------------------------------------\u001b[0m",
            "\u001b[0;31mKeyError\u001b[0m                                  Traceback (most recent call last)",
            "\u001b[0;32m/usr/local/lib/python3.10/dist-packages/pandas/core/indexes/base.py\u001b[0m in \u001b[0;36mget_loc\u001b[0;34m(self, key, method, tolerance)\u001b[0m\n\u001b[1;32m   3801\u001b[0m             \u001b[0;32mtry\u001b[0m\u001b[0;34m:\u001b[0m\u001b[0;34m\u001b[0m\u001b[0;34m\u001b[0m\u001b[0m\n\u001b[0;32m-> 3802\u001b[0;31m                 \u001b[0;32mreturn\u001b[0m \u001b[0mself\u001b[0m\u001b[0;34m.\u001b[0m\u001b[0m_engine\u001b[0m\u001b[0;34m.\u001b[0m\u001b[0mget_loc\u001b[0m\u001b[0;34m(\u001b[0m\u001b[0mcasted_key\u001b[0m\u001b[0;34m)\u001b[0m\u001b[0;34m\u001b[0m\u001b[0;34m\u001b[0m\u001b[0m\n\u001b[0m\u001b[1;32m   3803\u001b[0m             \u001b[0;32mexcept\u001b[0m \u001b[0mKeyError\u001b[0m \u001b[0;32mas\u001b[0m \u001b[0merr\u001b[0m\u001b[0;34m:\u001b[0m\u001b[0;34m\u001b[0m\u001b[0;34m\u001b[0m\u001b[0m\n",
            "\u001b[0;32m/usr/local/lib/python3.10/dist-packages/pandas/_libs/index.pyx\u001b[0m in \u001b[0;36mpandas._libs.index.IndexEngine.get_loc\u001b[0;34m()\u001b[0m\n",
            "\u001b[0;32m/usr/local/lib/python3.10/dist-packages/pandas/_libs/index.pyx\u001b[0m in \u001b[0;36mpandas._libs.index.IndexEngine.get_loc\u001b[0;34m()\u001b[0m\n",
            "\u001b[0;32mpandas/_libs/hashtable_class_helper.pxi\u001b[0m in \u001b[0;36mpandas._libs.hashtable.PyObjectHashTable.get_item\u001b[0;34m()\u001b[0m\n",
            "\u001b[0;32mpandas/_libs/hashtable_class_helper.pxi\u001b[0m in \u001b[0;36mpandas._libs.hashtable.PyObjectHashTable.get_item\u001b[0;34m()\u001b[0m\n",
            "\u001b[0;31mKeyError\u001b[0m: 'COD_CIUDAD'",
            "\nThe above exception was the direct cause of the following exception:\n",
            "\u001b[0;31mKeyError\u001b[0m                                  Traceback (most recent call last)",
            "\u001b[0;32m<ipython-input-9-c4e7b2a01ab3>\u001b[0m in \u001b[0;36m<cell line: 6>\u001b[0;34m()\u001b[0m\n\u001b[1;32m      4\u001b[0m \u001b[0;31m#plt.bar(COD_CIUDAD, CIUDAD, color='skyblue')\u001b[0m\u001b[0;34m\u001b[0m\u001b[0;34m\u001b[0m\u001b[0m\n\u001b[1;32m      5\u001b[0m \u001b[0;34m\u001b[0m\u001b[0m\n\u001b[0;32m----> 6\u001b[0;31m \u001b[0mx\u001b[0m \u001b[0;34m=\u001b[0m\u001b[0mdf\u001b[0m\u001b[0;34m[\u001b[0m\u001b[0;34m'COD_CIUDAD'\u001b[0m\u001b[0;34m]\u001b[0m\u001b[0;34m\u001b[0m\u001b[0;34m\u001b[0m\u001b[0m\n\u001b[0m\u001b[1;32m      7\u001b[0m \u001b[0;34m\u001b[0m\u001b[0m\n\u001b[1;32m      8\u001b[0m \u001b[0my\u001b[0m \u001b[0;34m=\u001b[0m\u001b[0mdf\u001b[0m\u001b[0;34m[\u001b[0m\u001b[0;34m'CIUDAD'\u001b[0m\u001b[0;34m]\u001b[0m\u001b[0;34m\u001b[0m\u001b[0;34m\u001b[0m\u001b[0m\n",
            "\u001b[0;32m/usr/local/lib/python3.10/dist-packages/pandas/core/frame.py\u001b[0m in \u001b[0;36m__getitem__\u001b[0;34m(self, key)\u001b[0m\n\u001b[1;32m   3805\u001b[0m             \u001b[0;32mif\u001b[0m \u001b[0mself\u001b[0m\u001b[0;34m.\u001b[0m\u001b[0mcolumns\u001b[0m\u001b[0;34m.\u001b[0m\u001b[0mnlevels\u001b[0m \u001b[0;34m>\u001b[0m \u001b[0;36m1\u001b[0m\u001b[0;34m:\u001b[0m\u001b[0;34m\u001b[0m\u001b[0;34m\u001b[0m\u001b[0m\n\u001b[1;32m   3806\u001b[0m                 \u001b[0;32mreturn\u001b[0m \u001b[0mself\u001b[0m\u001b[0;34m.\u001b[0m\u001b[0m_getitem_multilevel\u001b[0m\u001b[0;34m(\u001b[0m\u001b[0mkey\u001b[0m\u001b[0;34m)\u001b[0m\u001b[0;34m\u001b[0m\u001b[0;34m\u001b[0m\u001b[0m\n\u001b[0;32m-> 3807\u001b[0;31m             \u001b[0mindexer\u001b[0m \u001b[0;34m=\u001b[0m \u001b[0mself\u001b[0m\u001b[0;34m.\u001b[0m\u001b[0mcolumns\u001b[0m\u001b[0;34m.\u001b[0m\u001b[0mget_loc\u001b[0m\u001b[0;34m(\u001b[0m\u001b[0mkey\u001b[0m\u001b[0;34m)\u001b[0m\u001b[0;34m\u001b[0m\u001b[0;34m\u001b[0m\u001b[0m\n\u001b[0m\u001b[1;32m   3808\u001b[0m             \u001b[0;32mif\u001b[0m \u001b[0mis_integer\u001b[0m\u001b[0;34m(\u001b[0m\u001b[0mindexer\u001b[0m\u001b[0;34m)\u001b[0m\u001b[0;34m:\u001b[0m\u001b[0;34m\u001b[0m\u001b[0;34m\u001b[0m\u001b[0m\n\u001b[1;32m   3809\u001b[0m                 \u001b[0mindexer\u001b[0m \u001b[0;34m=\u001b[0m \u001b[0;34m[\u001b[0m\u001b[0mindexer\u001b[0m\u001b[0;34m]\u001b[0m\u001b[0;34m\u001b[0m\u001b[0;34m\u001b[0m\u001b[0m\n",
            "\u001b[0;32m/usr/local/lib/python3.10/dist-packages/pandas/core/indexes/base.py\u001b[0m in \u001b[0;36mget_loc\u001b[0;34m(self, key, method, tolerance)\u001b[0m\n\u001b[1;32m   3802\u001b[0m                 \u001b[0;32mreturn\u001b[0m \u001b[0mself\u001b[0m\u001b[0;34m.\u001b[0m\u001b[0m_engine\u001b[0m\u001b[0;34m.\u001b[0m\u001b[0mget_loc\u001b[0m\u001b[0;34m(\u001b[0m\u001b[0mcasted_key\u001b[0m\u001b[0;34m)\u001b[0m\u001b[0;34m\u001b[0m\u001b[0;34m\u001b[0m\u001b[0m\n\u001b[1;32m   3803\u001b[0m             \u001b[0;32mexcept\u001b[0m \u001b[0mKeyError\u001b[0m \u001b[0;32mas\u001b[0m \u001b[0merr\u001b[0m\u001b[0;34m:\u001b[0m\u001b[0;34m\u001b[0m\u001b[0;34m\u001b[0m\u001b[0m\n\u001b[0;32m-> 3804\u001b[0;31m                 \u001b[0;32mraise\u001b[0m \u001b[0mKeyError\u001b[0m\u001b[0;34m(\u001b[0m\u001b[0mkey\u001b[0m\u001b[0;34m)\u001b[0m \u001b[0;32mfrom\u001b[0m \u001b[0merr\u001b[0m\u001b[0;34m\u001b[0m\u001b[0;34m\u001b[0m\u001b[0m\n\u001b[0m\u001b[1;32m   3805\u001b[0m             \u001b[0;32mexcept\u001b[0m \u001b[0mTypeError\u001b[0m\u001b[0;34m:\u001b[0m\u001b[0;34m\u001b[0m\u001b[0;34m\u001b[0m\u001b[0m\n\u001b[1;32m   3806\u001b[0m                 \u001b[0;31m# If we have a listlike key, _check_indexing_error will raise\u001b[0m\u001b[0;34m\u001b[0m\u001b[0;34m\u001b[0m\u001b[0m\n",
            "\u001b[0;31mKeyError\u001b[0m: 'COD_CIUDAD'"
          ]
        }
      ],
      "source": [
        "import matplotlib.pyplot as plt\n",
        "\n",
        "\n",
        "#plt.bar(COD_CIUDAD, CIUDAD, color='skyblue')\n",
        "\n",
        "x =df['COD_CIUDAD']\n",
        "\n",
        "y =df['CIUDAD']\n",
        "plt.scatter(x,y)\n",
        "plt.show()"
      ]
    },
    {
      "cell_type": "code",
      "execution_count": null,
      "metadata": {
        "colab": {
          "base_uri": "https://localhost:8080/"
        },
        "id": "mpFhUas95FQe",
        "outputId": "09343486-4b1f-4132-9e8d-fa6583a9db4d"
      },
      "outputs": [
        {
          "name": "stdout",
          "output_type": "stream",
          "text": [
            "  COD_CIUDAD;CIUDAD\n",
            "0         12;IBAGUE\n",
            "1        24;ESPINAL\n",
            "2           18;CALI\n"
          ]
        }
      ],
      "source": [
        "import matplotlib.pyplot as plt\n",
        "import pandas as pd\n",
        "df= pd.read_csv('ciudades.csv')\n",
        "\n",
        "#plt.bar(COD_CIUDAD, CIUDAD, color='skyblue')\n",
        "\n",
        "x =df['COD_CIUDAD']\n",
        "y =df['CIUDAD']\n",
        "plt.scatter(x,y)\n",
        "plt.show()\n",
        "\n",
        "print(df.head())\n",
        "\n"
      ]
    },
    {
      "cell_type": "markdown",
      "metadata": {
        "id": "8dMfZfALUOL7"
      },
      "source": [
        "#Dataframe   "
      ]
    },
    {
      "cell_type": "code",
      "execution_count": null,
      "metadata": {
        "colab": {
          "base_uri": "https://localhost:8080/"
        },
        "id": "32MMabCuUTf6",
        "outputId": "14dd2d7d-3bcf-4ecc-e7d2-0277dad39647"
      },
      "outputs": [
        {
          "name": "stdout",
          "output_type": "stream",
          "text": [
            "    Nombre Apellidos Sexo  Edad\n",
            "0   Miguel  Martinez    M    25\n",
            "1   Brayan    Bernal    M    20\n",
            "2  Mariana  Guerrero    F    19\n",
            "3  Nicolas  Martinez    M    22\n",
            "4    Laura     Lopez    F    20\n"
          ]
        }
      ],
      "source": [
        "# Importamos el API pandas\n",
        "import pandas as pd\n",
        "\n",
        "# Cargamos los registros en el diccionario de datos para el data frame\n",
        "aprendices = {'Nombre':[\"Miguel\",\"Brayan\",\"Mariana\",\"Nicolas\",\"Laura\"],\n",
        "              'Apellidos':[\"Martinez\",\"Bernal\",\"Guerrero\",\"Martinez\",\"Lopez\"],\n",
        "              'Sexo':[\"M\",\"M\",\"F\",\"M\",\"F\"],\n",
        "              'Edad':[25,20,19,22,20]\n",
        "              }\n",
        "# Definimos una variable df para mostrar los registros\n",
        "df = pd.DataFrame(aprendices);\n",
        "\n",
        "# Cual es la edad maxima\n",
        "edad_maxima = df['Edad'].max()\n",
        "print(df)\n",
        "print()\n"
      ]
    },
    {
      "cell_type": "code",
      "execution_count": null,
      "metadata": {
        "colab": {
          "base_uri": "https://localhost:8080/"
        },
        "id": "MgF-zrOQZ2Da",
        "outputId": "c094ad33-0d99-44a7-deb2-fe9e4435fcc8"
      },
      "outputs": [
        {
          "name": "stdout",
          "output_type": "stream",
          "text": [
            "    Nombre Apellidos Sexo  Edad\n",
            "0   Miguel  Martinez    M    25\n",
            "1   Brayan    Bernal    M    20\n",
            "2  Mariana  Guerrero    F    19\n",
            "3  Nicolas  Martinez    M    22\n",
            "4    Laura     Lopez    F    20\n",
            "La edad mayor es 25\n"
          ]
        }
      ],
      "source": [
        "# Importamos el API pandas\n",
        "import pandas as pd\n",
        "\n",
        "\n",
        "# Cargamos los registros en el diccionario de datos para el data frame\n",
        "aprendices = {'Nombre':[\"Miguel\",\"Brayan\",\"Mariana\",\"Nicolas\",\"Laura\"],\n",
        "              'Apellidos':[\"Martinez\",\"Bernal\",\"Guerrero\",\"Martinez\",\"Lopez\"],\n",
        "              'Sexo':[\"M\",\"M\",\"F\",\"M\",\"F\"],\n",
        "              'Edad':[25,20,19,22,20]\n",
        "              }\n",
        "# Definimos una variable df para mostrar los registros\n",
        "df = pd.DataFrame(aprendices);\n",
        "print(df)\n",
        "\n",
        "# Definimos una variable edad_mayor\n",
        "edad_mayor = df['Edad'].max()\n",
        "print(\"La edad mayor es\",  edad_mayor)\n",
        "\n",
        "\n",
        "edad_mayor = df['Edad'].max()\n",
        "print(\"La edad mayor es\",  edad_mayor)\n",
        "\n"
      ]
    },
    {
      "cell_type": "code",
      "execution_count": null,
      "metadata": {
        "colab": {
          "base_uri": "https://localhost:8080/",
          "height": 586
        },
        "id": "s6lpWX1Cqeu_",
        "outputId": "615e4c5e-3ef2-4c77-fb7f-d929eeaf7da4"
      },
      "outputs": [
        {
          "name": "stdout",
          "output_type": "stream",
          "text": [
            "    Nombre Apellidos Sexo  Edad\n",
            "0   Miguel  Martinez    M    25\n",
            "1   Brayan    Bernal    M    20\n",
            "2  Mariana  Guerrero    F    19\n",
            "3  Nicolas  Martinez    M    22\n",
            "4    Laura     Lopez    F    20\n",
            "La edad mayor es 25\n",
            " El promedio de las edades es   21.2\n"
          ]
        },
        {
          "data": {
            "text/plain": [
              "<BarContainer object of 5 artists>"
            ]
          },
          "execution_count": 30,
          "metadata": {},
          "output_type": "execute_result"
        },
        {
          "data": {
            "image/png": "[encoded data removed]",
            "text/plain": [
              "<Figure size 640x480 with 1 Axes>"
            ]
          },
          "metadata": {},
          "output_type": "display_data"
        }
      ],
      "source": [
        "# Importamos el API pandas\n",
        "import pandas as pd\n",
        "import matplotlib.pyplot as plt\n",
        "\n",
        "\n",
        "# Cargamos los registros en el diccionario de datos para el data frame\n",
        "aprendices = {'Nombre':[\"Miguel\",\"Brayan\",\"Mariana\",\"Nicolas\",\"Laura\"],\n",
        "              'Apellidos':[\"Martinez\",\"Bernal\",\"Guerrero\",\"Martinez\",\"Lopez\"],\n",
        "              'Sexo':[\"M\",\"M\",\"F\",\"M\",\"F\"],\n",
        "              'Edad':[25,20,19,22,20]\n",
        "              }\n",
        "# Definimos una variable df para mostrar los registros\n",
        "df = pd.DataFrame(aprendices);\n",
        "print(df)\n",
        "\n",
        "# Definimos una variable edad_mayor\n",
        "edad_mayor = df['Edad'].max()\n",
        "print(\"La edad mayor es\",  edad_mayor)\n",
        "# Definimos la variable mediana\n",
        "mediana  = df['Edad'].mean()\n",
        "print(\" El promedio de las edades es  \", mediana)\n",
        "plt.bar(df['Nombre'],df['Edad'])\n",
        "plt.xlabel('Nombre')\n",
        "plt.ylabel('Edad')\n",
        "plt.title('Edades de los aprendices')\n",
        "\n",
        "\n",
        "\n"
      ]
    },
    {
      "cell_type": "code",
      "execution_count": null,
      "metadata": {
        "colab": {
          "base_uri": "https://localhost:8080/",
          "height": 408
        },
        "id": "C2Hdy_11hedS",
        "outputId": "b3ef0778-d1f9-4b5a-dca2-76b328f7f970"
      },
      "outputs": [
        {
          "ename": "FileNotFoundError",
          "evalue": "ignored",
          "output_type": "error",
          "traceback": [
            "\u001b[0;31m---------------------------------------------------------------------------\u001b[0m",
            "\u001b[0;31mFileNotFoundError\u001b[0m                         Traceback (most recent call last)",
            "\u001b[0;32m<ipython-input-19-331a81a51805>\u001b[0m in \u001b[0;36m<cell line: 13>\u001b[0;34m()\u001b[0m\n\u001b[1;32m     11\u001b[0m \u001b[0;31m#drive.mount('/content/drive/folders/1NVaaAgfPS1M-dwBFoTLNo2I5Khrk8N61?usp=share_link/ciudades.csv'')\u001b[0m\u001b[0;34m\u001b[0m\u001b[0;34m\u001b[0m\u001b[0m\n\u001b[1;32m     12\u001b[0m \u001b[0;34m\u001b[0m\u001b[0m\n\u001b[0;32m---> 13\u001b[0;31m \u001b[0mdf\u001b[0m \u001b[0;34m=\u001b[0m \u001b[0mpd\u001b[0m\u001b[0;34m.\u001b[0m\u001b[0mread_csv\u001b[0m\u001b[0;34m(\u001b[0m\u001b[0;34m\"/content/drive/folders/1NVaaAgfPS1M-dwBFoTLNo2I5Khrk8N61?usp=share_link/ciudades.csv\"\u001b[0m\u001b[0;34m)\u001b[0m\u001b[0;34m\u001b[0m\u001b[0;34m\u001b[0m\u001b[0m\n\u001b[0m\u001b[1;32m     14\u001b[0m \u001b[0mdf\u001b[0m\u001b[0;34m.\u001b[0m\u001b[0mcolumns\u001b[0m\u001b[0;34m\u001b[0m\u001b[0;34m\u001b[0m\u001b[0m\n\u001b[1;32m     15\u001b[0m \u001b[0;34m\u001b[0m\u001b[0m\n",
            "\u001b[0;32m/usr/local/lib/python3.10/dist-packages/pandas/util/_decorators.py\u001b[0m in \u001b[0;36mwrapper\u001b[0;34m(*args, **kwargs)\u001b[0m\n\u001b[1;32m    209\u001b[0m                 \u001b[0;32melse\u001b[0m\u001b[0;34m:\u001b[0m\u001b[0;34m\u001b[0m\u001b[0;34m\u001b[0m\u001b[0m\n\u001b[1;32m    210\u001b[0m                     \u001b[0mkwargs\u001b[0m\u001b[0;34m[\u001b[0m\u001b[0mnew_arg_name\u001b[0m\u001b[0;34m]\u001b[0m \u001b[0;34m=\u001b[0m \u001b[0mnew_arg_value\u001b[0m\u001b[0;34m\u001b[0m\u001b[0;34m\u001b[0m\u001b[0m\n\u001b[0;32m--> 211\u001b[0;31m             \u001b[0;32mreturn\u001b[0m \u001b[0mfunc\u001b[0m\u001b[0;34m(\u001b[0m\u001b[0;34m*\u001b[0m\u001b[0margs\u001b[0m\u001b[0;34m,\u001b[0m \u001b[0;34m**\u001b[0m\u001b[0mkwargs\u001b[0m\u001b[0;34m)\u001b[0m\u001b[0;34m\u001b[0m\u001b[0;34m\u001b[0m\u001b[0m\n\u001b[0m\u001b[1;32m    212\u001b[0m \u001b[0;34m\u001b[0m\u001b[0m\n\u001b[1;32m    213\u001b[0m         \u001b[0;32mreturn\u001b[0m \u001b[0mcast\u001b[0m\u001b[0;34m(\u001b[0m\u001b[0mF\u001b[0m\u001b[0;34m,\u001b[0m \u001b[0mwrapper\u001b[0m\u001b[0;34m)\u001b[0m\u001b[0;34m\u001b[0m\u001b[0;34m\u001b[0m\u001b[0m\n",
            "\u001b[0;32m/usr/local/lib/python3.10/dist-packages/pandas/util/_decorators.py\u001b[0m in \u001b[0;36mwrapper\u001b[0;34m(*args, **kwargs)\u001b[0m\n\u001b[1;32m    329\u001b[0m                     \u001b[0mstacklevel\u001b[0m\u001b[0;34m=\u001b[0m\u001b[0mfind_stack_level\u001b[0m\u001b[0;34m(\u001b[0m\u001b[0;34m)\u001b[0m\u001b[0;34m,\u001b[0m\u001b[0;34m\u001b[0m\u001b[0;34m\u001b[0m\u001b[0m\n\u001b[1;32m    330\u001b[0m                 )\n\u001b[0;32m--> 331\u001b[0;31m             \u001b[0;32mreturn\u001b[0m \u001b[0mfunc\u001b[0m\u001b[0;34m(\u001b[0m\u001b[0;34m*\u001b[0m\u001b[0margs\u001b[0m\u001b[0;34m,\u001b[0m \u001b[0;34m**\u001b[0m\u001b[0mkwargs\u001b[0m\u001b[0;34m)\u001b[0m\u001b[0;34m\u001b[0m\u001b[0;34m\u001b[0m\u001b[0m\n\u001b[0m\u001b[1;32m    332\u001b[0m \u001b[0;34m\u001b[0m\u001b[0m\n\u001b[1;32m    333\u001b[0m         \u001b[0;31m# error: \"Callable[[VarArg(Any), KwArg(Any)], Any]\" has no\u001b[0m\u001b[0;34m\u001b[0m\u001b[0;34m\u001b[0m\u001b[0m\n",
            "\u001b[0;32m/usr/local/lib/python3.10/dist-packages/pandas/io/parsers/readers.py\u001b[0m in \u001b[0;36mread_csv\u001b[0;34m(filepath_or_buffer, sep, delimiter, header, names, index_col, usecols, squeeze, prefix, mangle_dupe_cols, dtype, engine, converters, true_values, false_values, skipinitialspace, skiprows, skipfooter, nrows, na_values, keep_default_na, na_filter, verbose, skip_blank_lines, parse_dates, infer_datetime_format, keep_date_col, date_parser, dayfirst, cache_dates, iterator, chunksize, compression, thousands, decimal, lineterminator, quotechar, quoting, doublequote, escapechar, comment, encoding, encoding_errors, dialect, error_bad_lines, warn_bad_lines, on_bad_lines, delim_whitespace, low_memory, memory_map, float_precision, storage_options)\u001b[0m\n\u001b[1;32m    948\u001b[0m     \u001b[0mkwds\u001b[0m\u001b[0;34m.\u001b[0m\u001b[0mupdate\u001b[0m\u001b[0;34m(\u001b[0m\u001b[0mkwds_defaults\u001b[0m\u001b[0;34m)\u001b[0m\u001b[0;34m\u001b[0m\u001b[0;34m\u001b[0m\u001b[0m\n\u001b[1;32m    949\u001b[0m \u001b[0;34m\u001b[0m\u001b[0m\n\u001b[0;32m--> 950\u001b[0;31m     \u001b[0;32mreturn\u001b[0m \u001b[0m_read\u001b[0m\u001b[0;34m(\u001b[0m\u001b[0mfilepath_or_buffer\u001b[0m\u001b[0;34m,\u001b[0m \u001b[0mkwds\u001b[0m\u001b[0;34m)\u001b[0m\u001b[0;34m\u001b[0m\u001b[0;34m\u001b[0m\u001b[0m\n\u001b[0m\u001b[1;32m    951\u001b[0m \u001b[0;34m\u001b[0m\u001b[0m\n\u001b[1;32m    952\u001b[0m \u001b[0;34m\u001b[0m\u001b[0m\n",
            "\u001b[0;32m/usr/local/lib/python3.10/dist-packages/pandas/io/parsers/readers.py\u001b[0m in \u001b[0;36m_read\u001b[0;34m(filepath_or_buffer, kwds)\u001b[0m\n\u001b[1;32m    603\u001b[0m \u001b[0;34m\u001b[0m\u001b[0m\n\u001b[1;32m    604\u001b[0m     \u001b[0;31m# Create the parser.\u001b[0m\u001b[0;34m\u001b[0m\u001b[0;34m\u001b[0m\u001b[0m\n\u001b[0;32m--> 605\u001b[0;31m     \u001b[0mparser\u001b[0m \u001b[0;34m=\u001b[0m \u001b[0mTextFileReader\u001b[0m\u001b[0;34m(\u001b[0m\u001b[0mfilepath_or_buffer\u001b[0m\u001b[0;34m,\u001b[0m \u001b[0;34m**\u001b[0m\u001b[0mkwds\u001b[0m\u001b[0;34m)\u001b[0m\u001b[0;34m\u001b[0m\u001b[0;34m\u001b[0m\u001b[0m\n\u001b[0m\u001b[1;32m    606\u001b[0m \u001b[0;34m\u001b[0m\u001b[0m\n\u001b[1;32m    607\u001b[0m     \u001b[0;32mif\u001b[0m \u001b[0mchunksize\u001b[0m \u001b[0;32mor\u001b[0m \u001b[0miterator\u001b[0m\u001b[0;34m:\u001b[0m\u001b[0;34m\u001b[0m\u001b[0;34m\u001b[0m\u001b[0m\n",
            "\u001b[0;32m/usr/local/lib/python3.10/dist-packages/pandas/io/parsers/readers.py\u001b[0m in \u001b[0;36m__init__\u001b[0;34m(self, f, engine, **kwds)\u001b[0m\n\u001b[1;32m   1440\u001b[0m \u001b[0;34m\u001b[0m\u001b[0m\n\u001b[1;32m   1441\u001b[0m         \u001b[0mself\u001b[0m\u001b[0;34m.\u001b[0m\u001b[0mhandles\u001b[0m\u001b[0;34m:\u001b[0m \u001b[0mIOHandles\u001b[0m \u001b[0;34m|\u001b[0m \u001b[0;32mNone\u001b[0m \u001b[0;34m=\u001b[0m \u001b[0;32mNone\u001b[0m\u001b[0;34m\u001b[0m\u001b[0;34m\u001b[0m\u001b[0m\n\u001b[0;32m-> 1442\u001b[0;31m         \u001b[0mself\u001b[0m\u001b[0;34m.\u001b[0m\u001b[0m_engine\u001b[0m \u001b[0;34m=\u001b[0m \u001b[0mself\u001b[0m\u001b[0;34m.\u001b[0m\u001b[0m_make_engine\u001b[0m\u001b[0;34m(\u001b[0m\u001b[0mf\u001b[0m\u001b[0;34m,\u001b[0m \u001b[0mself\u001b[0m\u001b[0;34m.\u001b[0m\u001b[0mengine\u001b[0m\u001b[0;34m)\u001b[0m\u001b[0;34m\u001b[0m\u001b[0;34m\u001b[0m\u001b[0m\n\u001b[0m\u001b[1;32m   1443\u001b[0m \u001b[0;34m\u001b[0m\u001b[0m\n\u001b[1;32m   1444\u001b[0m     \u001b[0;32mdef\u001b[0m \u001b[0mclose\u001b[0m\u001b[0;34m(\u001b[0m\u001b[0mself\u001b[0m\u001b[0;34m)\u001b[0m \u001b[0;34m->\u001b[0m \u001b[0;32mNone\u001b[0m\u001b[0;34m:\u001b[0m\u001b[0;34m\u001b[0m\u001b[0;34m\u001b[0m\u001b[0m\n",
            "\u001b[0;32m/usr/local/lib/python3.10/dist-packages/pandas/io/parsers/readers.py\u001b[0m in \u001b[0;36m_make_engine\u001b[0;34m(self, f, engine)\u001b[0m\n\u001b[1;32m   1733\u001b[0m                 \u001b[0;32mif\u001b[0m \u001b[0;34m\"b\"\u001b[0m \u001b[0;32mnot\u001b[0m \u001b[0;32min\u001b[0m \u001b[0mmode\u001b[0m\u001b[0;34m:\u001b[0m\u001b[0;34m\u001b[0m\u001b[0;34m\u001b[0m\u001b[0m\n\u001b[1;32m   1734\u001b[0m                     \u001b[0mmode\u001b[0m \u001b[0;34m+=\u001b[0m \u001b[0;34m\"b\"\u001b[0m\u001b[0;34m\u001b[0m\u001b[0;34m\u001b[0m\u001b[0m\n\u001b[0;32m-> 1735\u001b[0;31m             self.handles = get_handle(\n\u001b[0m\u001b[1;32m   1736\u001b[0m                 \u001b[0mf\u001b[0m\u001b[0;34m,\u001b[0m\u001b[0;34m\u001b[0m\u001b[0;34m\u001b[0m\u001b[0m\n\u001b[1;32m   1737\u001b[0m                 \u001b[0mmode\u001b[0m\u001b[0;34m,\u001b[0m\u001b[0;34m\u001b[0m\u001b[0;34m\u001b[0m\u001b[0m\n",
            "\u001b[0;32m/usr/local/lib/python3.10/dist-packages/pandas/io/common.py\u001b[0m in \u001b[0;36mget_handle\u001b[0;34m(path_or_buf, mode, encoding, compression, memory_map, is_text, errors, storage_options)\u001b[0m\n\u001b[1;32m    854\u001b[0m         \u001b[0;32mif\u001b[0m \u001b[0mioargs\u001b[0m\u001b[0;34m.\u001b[0m\u001b[0mencoding\u001b[0m \u001b[0;32mand\u001b[0m \u001b[0;34m\"b\"\u001b[0m \u001b[0;32mnot\u001b[0m \u001b[0;32min\u001b[0m \u001b[0mioargs\u001b[0m\u001b[0;34m.\u001b[0m\u001b[0mmode\u001b[0m\u001b[0;34m:\u001b[0m\u001b[0;34m\u001b[0m\u001b[0;34m\u001b[0m\u001b[0m\n\u001b[1;32m    855\u001b[0m             \u001b[0;31m# Encoding\u001b[0m\u001b[0;34m\u001b[0m\u001b[0;34m\u001b[0m\u001b[0m\n\u001b[0;32m--> 856\u001b[0;31m             handle = open(\n\u001b[0m\u001b[1;32m    857\u001b[0m                 \u001b[0mhandle\u001b[0m\u001b[0;34m,\u001b[0m\u001b[0;34m\u001b[0m\u001b[0;34m\u001b[0m\u001b[0m\n\u001b[1;32m    858\u001b[0m                 \u001b[0mioargs\u001b[0m\u001b[0;34m.\u001b[0m\u001b[0mmode\u001b[0m\u001b[0;34m,\u001b[0m\u001b[0;34m\u001b[0m\u001b[0;34m\u001b[0m\u001b[0m\n",
            "\u001b[0;31mFileNotFoundError\u001b[0m: [Errno 2] No such file or directory: '/content/drive/folders/1NVaaAgfPS1M-dwBFoTLNo2I5Khrk8N61?usp=share_link/ciudades.csv'"
          ]
        }
      ],
      "source": [
        "\n",
        "import pandas as pd\n",
        "import matplotlib.pyplot as plt\n",
        "import matplotlib\n",
        "\n",
        "from google.colab import files\n",
        "\n",
        "#url = 'https://drive.google.com/drive/folders/1NVaaAgfPS1M-dwBFoTLNo2I5Khrk8N61?usp=share_link/ciudades.csv'\n",
        "#df = pd.read_csv(url)\n",
        "#drive.mount('/content/drive')\n",
        "\n",
        "#drive.mount('/content/drive/folders/1NVaaAgfPS1M-dwBFoTLNo2I5Khrk8N61?usp=share_link/ciudades.csv'')\n",
        "\n",
        "df = pd.read_csv(\"/content/drive/folders/1NVaaAgfPS1M-dwBFoTLNo2I5Khrk8N61?usp=share_link/ciudades.csv\")\n",
        "df.columns\n",
        "\n",
        "\n"
      ]
    },
    {
      "cell_type": "code",
      "execution_count": null,
      "metadata": {
        "colab": {
          "background_save": true,
          "base_uri": "https://localhost:8080/"
        },
        "id": "uQdAilBzUuG8",
        "outputId": "a3793978-a30b-499e-9687-d4cea8261332"
      },
      "outputs": [
        {
          "data": {
            "text/plain": [
              "Miguel     2.5\n",
              "Brayan     5.0\n",
              "Mariana    3.5\n",
              "Nicolas    4.0\n",
              "dtype: float64"
            ]
          },
          "execution_count": 39,
          "metadata": {},
          "output_type": "execute_result"
        }
      ],
      "source": [
        "import pandas as pd\n",
        "# Una serie es como un vector unidimensional para las calificaciones\n",
        "# El indice es el que permite parametrizar cada calificacion\n",
        "serie = pd.Series([2.5,5.0,3.5,4.0,3.0], index =[\"Miguel\",\"Brayan\",\"Mariana\",\"Nicolas\",\"Laura\"])\n",
        "#print(serie)\n",
        "serie[0:3]\n",
        "\n",
        "\n",
        "\n",
        "\n",
        "\n",
        "\n",
        "\n",
        "\n",
        "\n",
        "\n",
        "\n",
        "\n",
        "\n",
        "\n",
        "\n",
        "\n",
        "\n",
        "\n",
        "\n",
        "\n",
        "\n",
        "\n",
        "\n"
      ]
    },
    {
      "cell_type": "code",
      "execution_count": null,
      "metadata": {
        "colab": {
          "background_save": true,
          "base_uri": "https://localhost:8080/"
        },
        "id": "fHgLTW9_-a3-",
        "outputId": "a3793978-a30b-499e-9687-d4cea8261332"
      },
      "outputs": [
        {
          "data": {
            "text/plain": [
              "Miguel     2.5\n",
              "Brayan     5.0\n",
              "Mariana    3.5\n",
              "Nicolas    4.0\n",
              "dtype: float64"
            ]
          },
          "execution_count": 39,
          "metadata": {},
          "output_type": "execute_result"
        }
      ],
      "source": [
        "import pandas as pd\n",
        "# Una serie es como un vector unidimensional para las calificaciones\n",
        "# El indice es el que permite parametrizar cada calificacion\n",
        "serie = pd.Series([2.5,5.0,3.5,4.0,3.0], index =[\"Miguel\",\"Brayan\",\"Mariana\",\"Nicolas\",\"Laura\"])\n",
        "#print(serie)\n",
        "serie[0:3]\n",
        "\n",
        "\n",
        "\n",
        "\n",
        "\n",
        "\n",
        "\n",
        "\n",
        "\n",
        "\n",
        "\n",
        "\n",
        "\n",
        "\n",
        "\n",
        "\n",
        "\n",
        "\n",
        "\n",
        "\n",
        "\n",
        "\n",
        "\n"
      ]
    },
    {
      "cell_type": "code",
      "execution_count": null,
      "metadata": {
        "colab": {
          "base_uri": "https://localhost:8080/"
        },
        "id": "ozwazB1v4XJJ",
        "outputId": "60a74321-b8ff-4bb8-a696-c627d58bbc05"
      },
      "outputs": [
        {
          "name": "stdout",
          "output_type": "stream",
          "text": [
            "0     Matemáticas\n",
            "1        Historia\n",
            "2        Economía\n",
            "3    Programación\n",
            "4          Inglés\n",
            "dtype: string\n"
          ]
        }
      ],
      "source": [
        "\n",
        "import pandas as pd\n",
        "s = pd.Series(['Matemáticas', 'Historia', 'Economía', 'Programación', 'Inglés'], dtype='string')\n",
        "print(s)"
      ]
    },
    {
      "cell_type": "code",
      "execution_count": null,
      "metadata": {
        "colab": {
          "base_uri": "https://localhost:8080/"
        },
        "id": "kXKoFU6E7GbO",
        "outputId": "3ba6d5f3-e7c1-46e0-ee57-cd2b6bef4d43"
      },
      "outputs": [
        {
          "data": {
            "text/plain": [
              "7.4"
            ]
          },
          "execution_count": 3,
          "metadata": {},
          "output_type": "execute_result"
        }
      ],
      "source": [
        "import pandas as pd\n",
        "from pandas import Series\n",
        "Series([5.7,8.5,9.1,5.5,8.2],index=[\"Juan\",\"Miguel\",\"Nicolas\",\"Brayan\",\"Mariana\"]).mean()"
      ]
    },
    {
      "cell_type": "code",
      "execution_count": null,
      "metadata": {
        "colab": {
          "base_uri": "https://localhost:8080/"
        },
        "id": "l0k2EoCk-HzZ",
        "outputId": "8d689e52-295d-40e8-c387-7054e0d72f4b"
      },
      "outputs": [
        {
          "name": "stdout",
          "output_type": "stream",
          "text": [
            "Ingresa los valores de la serie (escribe 'fin' para terminar):\n",
            "Ingresa un valor (o escribe 'fin' para terminar): 3\n",
            "Ingresa un valor (o escribe 'fin' para terminar): 4\n",
            "Ingresa un valor (o escribe 'fin' para terminar): 5\n",
            "Ingresa un valor (o escribe 'fin' para terminar): 8\n",
            "Ingresa un valor (o escribe 'fin' para terminar): 9\n",
            "Ingresa un valor (o escribe 'fin' para terminar): fin\n",
            "La serie capturada es: [3.0, 4.0, 5.0, 8.0, 9.0]\n"
          ]
        }
      ],
      "source": [
        "serie = []\n",
        "\n",
        "print(\"Ingresa los valores de la serie (escribe 'fin' para terminar):\")\n",
        "\n",
        "while True:\n",
        "    valor = input(\"Ingresa un valor (o escribe 'fin' para terminar): \")\n",
        "\n",
        "    if valor.lower() == 'fin':\n",
        "        break\n",
        "\n",
        "    try:\n",
        "        valor_numerico = float(valor)\n",
        "        serie.append(valor_numerico)\n",
        "    except ValueError:\n",
        "        print(\"Ingresa un valor numérico o 'fin' para terminar.\")\n",
        "\n",
        "print(\"La serie capturada es:\", serie)\n",
        "\n",
        "\n",
        "\n"
      ]
    },
    {
      "cell_type": "markdown",
      "metadata": {
        "id": "VOURVQxd-Q2_"
      },
      "source": [
        "#\n",
        "SERIES\n"
      ]
    },
    {
      "cell_type": "code",
      "execution_count": null,
      "metadata": {
        "id": "zxAnqdCOAhaQ"
      },
      "outputs": [],
      "source": []
    },
    {
      "cell_type": "code",
      "execution_count": null,
      "metadata": {
        "id": "yD8A-klNAXpI"
      },
      "outputs": [],
      "source": [
        "import matplotlib.pyplot as plt\n",
        "\n",
        "# Crear un diccionario para almacenar el nombre del estudiante y su nota\n",
        "estudiantes = {}\n",
        "\n",
        "print(\"Ingresa los nombres y notas de los estudiantes (escribe 'fin' para terminar):\")\n",
        "\n",
        "while True:\n",
        "    nombre = input(\"Ingresa el nombre del estudiante (o escribe 'fin' para terminar): \")\n",
        "\n",
        "    if nombre.lower() == 'fin':\n",
        "        break\n",
        "\n",
        "    try:\n",
        "        nota = float(input(\"Ingresa la nota para {} : \".format(nombre)))\n",
        "        estudiantes[nombre] = nota\n",
        "    except ValueError:\n",
        "        print(\"Ingresa una nota válida o 'fin' para terminar.\")\n",
        "\n",
        "print(\"Notas de los estudiantes:\")\n",
        "for nombre, nota in estudiantes.items():\n",
        "    print(\"{}: {}\".format(nombre, nota))\n",
        "\n",
        "# para para graficar se utiliza plot.bar()\n",
        "\n",
        "\n",
        "# Crear el gráfico de barras\n",
        "plt.bar(estudiantes, notas, color='skyblue')\n",
        "\n",
        "# Personalizar el gráfico\n",
        "plt.xlabel('Estudiantes')\n",
        "plt.ylabel('Notas')\n",
        "plt.title('Notas de los Estudiantes')\n",
        "plt.ylim(0, 100)  # Establecer límites en el eje y\n",
        "\n",
        "# Mostrar el gráfico\n",
        "plt.show()\n",
        "#Este código generará un gráfico de barras donde cada barra representa la nota de un estudiante. El eje x representa los estudiantes y el eje y representa las notas. Asegúrate de ajustar las listas estudiantes y notas con tus propios datos.\n",
        "\n",
        "\n"
      ]
    },
    {
      "cell_type": "markdown",
      "metadata": {
        "id": "oKNMW897CXBf"
      },
      "source": [
        "#Un serie apartier de un diccionario\n"
      ]
    },
    {
      "cell_type": "code",
      "execution_count": null,
      "metadata": {
        "colab": {
          "base_uri": "https://localhost:8080/",
          "height": 262
        },
        "id": "HUUp086vqz6n",
        "outputId": "271d6a98-8902-4b0d-ab5e-e5dcea7ce12f"
      },
      "outputs": [
        {
          "name": "stdout",
          "output_type": "stream",
          "text": [
            "Ingresa los valores de la serie (escribe 'fin' para terminar):\n"
          ]
        },
        {
          "ename": "NameError",
          "evalue": "ignored",
          "output_type": "error",
          "traceback": [
            "\u001b[0;31m---------------------------------------------------------------------------\u001b[0m",
            "\u001b[0;31mNameError\u001b[0m                                 Traceback (most recent call last)",
            "\u001b[0;32m<ipython-input-5-ef49807e3254>\u001b[0m in \u001b[0;36m<cell line: 5>\u001b[0;34m()\u001b[0m\n\u001b[1;32m      3\u001b[0m \u001b[0mprint\u001b[0m\u001b[0;34m(\u001b[0m\u001b[0;34m\"Ingresa los valores de la serie (escribe 'fin' para terminar):\"\u001b[0m\u001b[0;34m)\u001b[0m\u001b[0;34m\u001b[0m\u001b[0;34m\u001b[0m\u001b[0m\n\u001b[1;32m      4\u001b[0m \u001b[0;34m\u001b[0m\u001b[0m\n\u001b[0;32m----> 5\u001b[0;31m \u001b[0;32mwhile\u001b[0m \u001b[0;34m(\u001b[0m\u001b[0mvalor\u001b[0m \u001b[0;34m!=\u001b[0m \u001b[0;36m0\u001b[0m\u001b[0;34m)\u001b[0m\u001b[0;34m:\u001b[0m\u001b[0;34m\u001b[0m\u001b[0;34m\u001b[0m\u001b[0m\n\u001b[0m\u001b[1;32m      6\u001b[0m       \u001b[0mvalor\u001b[0m \u001b[0;34m=\u001b[0m \u001b[0minput\u001b[0m\u001b[0;34m(\u001b[0m\u001b[0;34m\"Ingresa un valor (o escribe 'fin' para terminar): \"\u001b[0m\u001b[0;34m)\u001b[0m\u001b[0;34m\u001b[0m\u001b[0;34m\u001b[0m\u001b[0m\n\u001b[1;32m      7\u001b[0m       \u001b[0mserie\u001b[0m\u001b[0;34m.\u001b[0m\u001b[0mappend\u001b[0m\u001b[0;34m(\u001b[0m\u001b[0mvalor\u001b[0m\u001b[0;34m)\u001b[0m\u001b[0;34m\u001b[0m\u001b[0;34m\u001b[0m\u001b[0m\n",
            "\u001b[0;31mNameError\u001b[0m: name 'valor' is not defined"
          ]
        }
      ],
      "source": [
        "serie = []\n",
        "\n",
        "\n",
        "\n",
        "while (valor != 0):\n",
        "      valor = input(\"Ingresa un valor (o escribe 'fin' para terminar): \")\n",
        "      serie.append(valor)\n",
        "      print(\"Ingresa un valor numérico o 'fin' para terminar.\")\n",
        "\n",
        "print(\"La serie capturada es:\", serie)\n",
        "\n",
        "\n",
        "\n"
      ]
    },
    {
      "cell_type": "code",
      "execution_count": null,
      "metadata": {
        "colab": {
          "base_uri": "https://localhost:8080/",
          "height": 559
        },
        "id": "NbAZw-12tg9D",
        "outputId": "734f30a0-36f9-4554-fb95-f952a83a5e39"
      },
      "outputs": [
        {
          "name": "stdout",
          "output_type": "stream",
          "text": [
            "Ingrese el número de aprendices: 2\n",
            "Ingrese el nombre del aprendiz ramon\n",
            "Ingrese la calificacion para4.0\n",
            "Ingrese el nombre del aprendiz jose\n",
            "Ingrese la calificacion para5.0\n"
          ]
        },
        {
          "data": {
            "image/png": "[encoded data removed]",
            "text/plain": [
              "<Figure size 640x480 with 1 Axes>"
            ]
          },
          "metadata": {},
          "output_type": "display_data"
        }
      ],
      "source": [
        "import matplotlib.pyplot as plt\n",
        "\n",
        "# Capturar nombres de aprendices  y notas desde el teclado\n",
        "num_aprendices = int(input(\"Ingrese el número de aprendices: \"))\n",
        "\n",
        "aprendices = []\n",
        "calificaciones = []\n",
        "\n",
        "for i in range(num_aprendices):\n",
        "    nombre = input(\"Ingrese el nombre del aprendiz \")\n",
        "    calificacion = float(input(\"Ingrese la calificacion para\"))\n",
        "# Añadir y/o adjuntar  una variable nueva al conjunto de datos asociado y añadir un objeto Variable correspondiente a la instancia VariableList asociada\n",
        "    aprendices.append(nombre)\n",
        "    calificaciones.append(calificacion)\n",
        "    i = i +1\n",
        "\n",
        "\n",
        "# Crear el gráfico de barras\n",
        "plt.bar(aprendices, calificaciones, color='skyblue')\n",
        "\n",
        "# Personalizar el gráfico\n",
        "plt.xlabel('aprendices')\n",
        "plt.ylabel('calificaciones')\n",
        "plt.title('calificaciones  de los aprendices')\n",
        "plt.ylim(0, 10)  # Establecer límites en el eje y\n",
        "\n",
        "# Mostrar el gráfico\n",
        "plt.show()\n",
        "\n"
      ]
    },
    {
      "cell_type": "code",
      "execution_count": null,
      "metadata": {
        "id": "hVJoZmwI025k"
      },
      "outputs": [],
      "source": [
        "#Captura el numero de estudiantes que quiere en la serie\n",
        "num_aprendices = int(input(\"ingrese el nuemro de aprendices\"))\n",
        "aprendices = []\n",
        "calificaciones = []\n",
        "\n",
        "for i in range(num_aprendices):\n",
        "  nombre = input(\"ingrese\")"
      ]
    },
    {
      "cell_type": "code",
      "execution_count": null,
      "metadata": {
        "id": "QnHiUfJI-Mr5"
      },
      "outputs": [],
      "source": []
    },
    {
      "cell_type": "markdown",
      "metadata": {
        "id": "hbLNjSCBYwM7"
      },
      "source": [
        "#Graficiar un serie\n"
      ]
    },
    {
      "cell_type": "code",
      "execution_count": null,
      "metadata": {
        "colab": {
          "base_uri": "https://localhost:8080/",
          "height": 594
        },
        "id": "Fb5Y_-__Y7QL",
        "outputId": "09848fbe-37e2-41d3-cf89-e84dd4a5f593"
      },
      "outputs": [
        {
          "name": "stdout",
          "output_type": "stream",
          "text": [
            "Ingrese el número de estudiantes: 3\n",
            "Ingrese el nombre del estudiante 1: ramon\n",
            "Ingrese la nota para ramon: 3.0\n",
            "Ingrese el nombre del estudiante 2: marina\n",
            "Ingrese la nota para marina: 4.0\n",
            "Ingrese el nombre del estudiante 3: jose\n",
            "Ingrese la nota para jose: 5.0\n"
          ]
        },
        {
          "data": {
            "image/png": "[encoded data removed]",
            "text/plain": [
              "<Figure size 640x480 with 1 Axes>"
            ]
          },
          "metadata": {},
          "output_type": "display_data"
        }
      ],
      "source": [
        "import matplotlib.pyplot as plt\n",
        "\n",
        "# Capturar nombres de estudiantes y notas desde el teclado\n",
        "num_estudiantes = int(input(\"Ingrese el número de estudiantes: \"))\n",
        "\n",
        "estudiantes = []\n",
        "notas = []\n",
        "\n",
        "for i in range(num_estudiantes):\n",
        "    nombre = input(f\"Ingrese el nombre del estudiante {i + 1}: \")\n",
        "    nota = float(input(f\"Ingrese la nota para {nombre}: \"))\n",
        "    estudiantes.append(nombre)\n",
        "    notas.append(nota)\n",
        "\n",
        "# Crear el gráfico de barras\n",
        "plt.bar(estudiantes, notas, color='skyblue')\n",
        "\n",
        "# Personalizar el gráfico\n",
        "plt.xlabel('Estudiantes')\n",
        "plt.ylabel('Notas')\n",
        "plt.title('Notas de los Estudiantes')\n",
        "plt.ylim(0, 100)  # Establecer límites en el eje y\n",
        "\n",
        "# Mostrar el gráfico\n",
        "plt.show()\n",
        "\n"
      ]
    },
    {
      "cell_type": "markdown",
      "metadata": {
        "id": "MLYcXVqoY0NW"
      },
      "source": []
    },
    {
      "cell_type": "code",
      "execution_count": null,
      "metadata": {
        "colab": {
          "base_uri": "https://localhost:8080/"
        },
        "id": "SZPZWuokCgHA",
        "outputId": "96394f7d-b2be-4b1e-bb8f-367545242b88"
      },
      "outputs": [
        {
          "name": "stdout",
          "output_type": "stream",
          "text": [
            "Matemáticas     6.0\n",
            "Economía        4.5\n",
            "Programación    8.5\n",
            "dtype: float64\n"
          ]
        }
      ],
      "source": [
        "import pandas as pd\n",
        "s = pd.Series({'Matemáticas': 6.0,  'Economía': 4.5, 'Programación': 8.5})\n",
        "print(s)"
      ]
    },
    {
      "cell_type": "markdown",
      "metadata": {
        "id": "OjRNUV3Dqf1G"
      },
      "source": [
        "#Programacion orienta a objetos\n"
      ]
    },
    {
      "cell_type": "code",
      "execution_count": null,
      "metadata": {
        "colab": {
          "base_uri": "https://localhost:8080/"
        },
        "id": "WcqWXESfqmXs",
        "outputId": "06cb88a3-ae4b-446c-dc1d-d6437fb3c784"
      },
      "outputs": [
        {
          "name": "stdout",
          "output_type": "stream",
          "text": [
            "2004\n",
            "2023\n"
          ]
        }
      ],
      "source": [
        "#Mi primera clase\n",
        "class Auto:\n",
        "  marca = \"\"\n",
        "  modelo = 2004\n",
        "  placa = \"\"\n",
        "taxi = Auto\n",
        "print(taxi.modelo)\n",
        "taxi.modelo = 2023\n",
        "print(taxi.modelo)"
      ]
    },
    {
      "cell_type": "code",
      "execution_count": null,
      "metadata": {
        "colab": {
          "base_uri": "https://localhost:8080/"
        },
        "id": "jMoJT5tWsqo7",
        "outputId": "94c6c895-9d00-4223-c68f-1b6a92824257"
      },
      "outputs": [
        {
          "name": "stdout",
          "output_type": "stream",
          "text": [
            "Anderes\n",
            "usted esta en el programa de adso\n"
          ]
        }
      ],
      "source": [
        "#Esta es mi clase aprendiz\n",
        "class Aprendiz:\n",
        "  codigo = 0\n",
        "  nombre = ''\n",
        "  apellido = ''\n",
        "#Creacion del metodol regisotro\n",
        "  def registro(self):\n",
        "    print(\"usted esta en el programa de adso\")\n",
        "\n",
        "#Creacion del objeto\n",
        "Aprendiz_adso = Aprendiz()\n",
        "Aprendiz_adso.codigo = 1\n",
        "Aprendiz_adso.nombre = \"Anderes\"\n",
        "Aprendiz_adso.apellido = \"Rodriguez\"\n",
        "print(Aprendiz_adso.nombre)\n",
        "Aprendiz_adso.registro()\n"
      ]
    },
    {
      "cell_type": "code",
      "execution_count": null,
      "metadata": {
        "colab": {
          "base_uri": "https://localhost:8080/"
        },
        "id": "GZ3wuQNEAPbj",
        "outputId": "5eef5a10-a32f-4bfe-8c9e-46f24241f569"
      },
      "outputs": [
        {
          "name": "stdout",
          "output_type": "stream",
          "text": [
            "Anderes\n"
          ]
        }
      ],
      "source": [
        "class Aprendiz:\n",
        "  # una funcion como constructor que retorna valor\n",
        "  def _init_(self):\n",
        "      self.codigo = 0\n",
        "      self.nombre = ''\n",
        "      self.apellido = ''\n",
        "#Creacion del objeto\n",
        "Aprendiz_adso = Aprendiz()\n",
        "Aprendiz_adso.codigo = 1\n",
        "Aprendiz_adso.nombre = \"Anderes\"\n",
        "Aprendiz_adso.apellido = \"Rodriguez\"\n",
        "print(Aprendiz_adso.nombre)\n",
        "\n",
        "\n",
        "\n",
        "\n",
        "\n"
      ]
    },
    {
      "cell_type": "code",
      "execution_count": null,
      "metadata": {
        "colab": {
          "base_uri": "https://localhost:8080/"
        },
        "id": "F_S1WmXwGfP4",
        "outputId": "07db930c-f402-4a63-ddfb-382456627876"
      },
      "outputs": [
        {
          "name": "stdout",
          "output_type": "stream",
          "text": [
            "Suma: 10\n"
          ]
        }
      ],
      "source": [
        "class Calculadora:\n",
        "    def __init__(self):\n",
        "        pass\n",
        "\n",
        "    def suma(self, a, b):\n",
        "        return a + b\n",
        "\n",
        "# Crear una instancia de la calculadora\n",
        "calculadora = Calculadora()\n",
        "\n",
        "# Realizar operaciones\n",
        "print(\"Suma:\", calculadora.suma(3,7))  # Suma: 10"
      ]
    },
    {
      "cell_type": "code",
      "execution_count": null,
      "metadata": {
        "id": "cW3Ua_SJPoR1"
      },
      "outputs": [],
      "source": []
    },
    {
      "cell_type": "markdown",
      "metadata": {
        "id": "fYG6tCnlPqUL"
      },
      "source": [
        " # la clase aprendiz con constructor y con metodo retorno\n"
      ]
    },
    {
      "cell_type": "code",
      "execution_count": null,
      "metadata": {
        "colab": {
          "base_uri": "https://localhost:8080/"
        },
        "id": "iAYKR4Y9rlqv",
        "outputId": "9afdb969-8879-4636-87aa-023e66a2ebb9"
      },
      "outputs": [
        {
          "name": "stdout",
          "output_type": "stream",
          "text": [
            "Codigo: 1, nombre: tobias, apellido:gonzalez\n"
          ]
        }
      ],
      "source": [
        "\n",
        "#Creacion de la clase aprendiz\n",
        "class Aprendiz:\n",
        "  #Creacion de constructor\n",
        "    def __init__(self,codigo, nombre, apellido):\n",
        "        self.codigo = codigo\n",
        "        self.nombre = nombre\n",
        "        self.apellido = apellido\n",
        "  #Creacion de metodo registro\n",
        "    def registro (self):\n",
        "        return f\"Codigo: {self.codigo}, nombre: {self.nombre}, apellido:{self.apellido}\"\n",
        "\n",
        "\n",
        "# Crear instancias de la clase Aprendiz\n",
        "Aprendiz1 = Aprendiz(1,\"tobias\",\"gonzalez\")\n",
        "\n",
        "# Obtener información de los aprendices\n",
        "print(Aprendiz1.registro())\n"
      ]
    },
    {
      "cell_type": "code",
      "execution_count": null,
      "metadata": {
        "colab": {
          "base_uri": "https://localhost:8080/"
        },
        "id": "c-ntKoViCZ9J",
        "outputId": "3308c3f1-c2c9-4c39-d3dc-353e76799399"
      },
      "outputs": [
        {
          "name": "stdout",
          "output_type": "stream",
          "text": [
            "0     Matemáticas\n",
            "1        Historia\n",
            "2        Economía\n",
            "3    Programación\n",
            "4          Inglés\n",
            "dtype: string\n"
          ]
        }
      ],
      "source": [
        "import pandas as pd\n",
        "s = pd.Series(['Matemáticas', 'Historia', 'Economía', 'Programación', 'Inglés'], dtype='string')\n",
        "print(s)"
      ]
    },
    {
      "cell_type": "code",
      "execution_count": null,
      "metadata": {
        "colab": {
          "base_uri": "https://localhost:8080/"
        },
        "id": "DfwCwVnvFcAy",
        "outputId": "0f187628-3373-40cd-add0-cabd64a3ae28"
      },
      "outputs": [
        {
          "name": "stdout",
          "output_type": "stream",
          "text": [
            "    nombre  edad         grado             correo\n",
            "0    María    18      Economía    maria@gmail.com\n",
            "1     Luis    22      Medicina      luis@yahoo.es\n",
            "2   Carmen    20  Arquitectura   carmen@gmail.com\n",
            "3  Antonio    21      Economía  antonio@gmail.com\n"
          ]
        }
      ],
      "source": [
        "import pandas as pd\n",
        "datos = {'nombre':['María', 'Luis', 'Carmen', 'Antonio'],'edad':[18, 22, 20, 21], 'grado':['Economía', 'Medicina', 'Arquitectura', 'Economía'],'correo':['maria@gmail.com', 'luis@yahoo.es', 'carmen@gmail.com', 'antonio@gmail.com']}\n",
        "df = pd.DataFrame(datos)\n",
        "print(df)"
      ]
    },
    {
      "cell_type": "code",
      "execution_count": null,
      "metadata": {
        "colab": {
          "base_uri": "https://localhost:8080/",
          "height": 913
        },
        "id": "rDz9zHp5j0v_",
        "outputId": "19a0c891-cdaa-45ea-af2c-5002d2c60838"
      },
      "outputs": [
        {
          "name": "stdout",
          "output_type": "stream",
          "text": [
            "       manzanas  peras\n",
            "Juan          3      1\n",
            "Pedro         2      4\n"
          ]
        },
        {
          "data": {
            "text/plain": [
              "<Axes: ylabel='frutas en total'>"
            ]
          },
          "execution_count": 16,
          "metadata": {},
          "output_type": "execute_result"
        },
        {
          "data": {
            "image/png": "[encoded data removed]",
            "text/plain": [
              "<Figure size 640x480 with 1 Axes>"
            ]
          },
          "metadata": {},
          "output_type": "display_data"
        },
        {
          "data": {
            "image/png": "[encoded data removed]",
            "text/plain": [
              "<Figure size 640x480 with 1 Axes>"
            ]
          },
          "metadata": {},
          "output_type": "display_data"
        }
      ],
      "source": [
        "\n",
        "import pandas as pd\n",
        "datos = pd.DataFrame({\"manzanas\":[3,2], \"peras\":[1,4]}, index =[\"Juan\",\"Pedro\"])\n",
        "print(datos)\n",
        "# para para graficar se utiliza plot.bar()\n",
        "datos.plot.bar()\n",
        "\n",
        "\n",
        "datos[\"frutas en total\"]= datos[\"manzanas\"]+ datos[\"peras\"]\n",
        "datos.plot.pie(y = \"frutas en total\", autopct='%1.1f%%')"
      ]
    },
    {
      "cell_type": "code",
      "execution_count": null,
      "metadata": {
        "id": "RfNZnP7bJs-b"
      },
      "outputs": [],
      "source": []
    },
    {
      "cell_type": "code",
      "execution_count": null,
      "metadata": {
        "colab": {
          "base_uri": "https://localhost:8080/"
        },
        "id": "wrqzL85M-wlq",
        "outputId": "bec8c8b5-ee0e-4bcf-903b-5cfc696fa013"
      },
      "outputs": [
        {
          "name": "stdout",
          "output_type": "stream",
          "text": [
            "Series= 0    1\n",
            "1    2\n",
            "2    3\n",
            "dtype: int64\n"
          ]
        }
      ],
      "source": [
        "import pandas as pd\n",
        "mylist = [1,2,3]\n",
        "res = pd.Series(mylist)\n",
        "print(\"Series=\",res)\n"
      ]
    }
  ],
  "metadata": {
    "colab": {
      "provenance": [],
      "authorship_tag": "ABX9TyNFkPJWwqz9yF7KW7Oi/YDf",
      "include_colab_link": true
    },
    "kernelspec": {
      "display_name": "Python 3",
      "name": "python3"
    },
    "language_info": {
      "name": "python"
    }
  },
  "nbformat": 4,
  "nbformat_minor": 0
}