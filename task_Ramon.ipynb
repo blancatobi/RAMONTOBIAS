{
  "metadata": {
    "toc-autonumbering": true,
    "language_info": {
      "codemirror_mode": {
        "name": "python",
        "version": 3
      },
      "file_extension": ".py",
      "mimetype": "text/x-python",
      "name": "python",
      "nbconvert_exporter": "python",
      "pygments_lexer": "ipython3",
      "version": "3.8"
    },
    "kernelspec": {
      "name": "python",
      "display_name": "Python (Pyodide)",
      "language": "python"
    },
    "colab": {
      "provenance": [],
      "include_colab_link": true
    }
  },
  "nbformat_minor": 0,
  "nbformat": 4,
  "cells": [
    {
      "cell_type": "markdown",
      "metadata": {
        "id": "view-in-github",
        "colab_type": "text"
      },
      "source": [
        "<a href=\"https://colab.research.google.com/github/blancatobi/RAMONTOBIAS/blob/main/task_Ramon.ipynb\" target=\"_parent\"><img src=\"https://colab.research.google.com/assets/colab-badge.svg\" alt=\"Open In Colab\"/></a>"
      ]
    },
    {
      "cell_type": "markdown",
      "source": [
        "Notebook title."
      ],
      "metadata": {
        "id": "DrWoNujP6r8r"
      }
    },
    {
      "cell_type": "markdown",
      "source": [
        "Introduction\n",
        "Welcome to my Ramon Gonzalez notebook"
      ],
      "metadata": {
        "id": "0gbArDgY6r8-"
      }
    },
    {
      "cell_type": "markdown",
      "source": [
        "The most commonly used programming languages ​​in the field of data science include:\n",
        "\n",
        "1. Python: It is one of the most popular languages ​​in data science due to its ease of use, a wide range of specialized libraries (such as Pandas, NumPy, Matplotlib, Scikit-learn, among others) and its versatility in data analysis. data, machine learning, visualization, etc.\n",
        "\n",
        "2. A: It is known for its statistical capabilities and is widely used in statistical analysis, data visualization and algorithm development.\n",
        "\n",
        "3.SQL: Although it is not a general programming language, it is essential for working with databases, which is essential in the field of data science to manipulate, extract and analyze large data sets.."
      ],
      "metadata": {
        "id": "NXD-h44v6r9d"
      }
    },
    {
      "cell_type": "markdown",
      "source": [
        "Data Science Libraries\n",
        "\n",
        "Some of the popular libraries in Python for data science include:\n",
        "-**Pandas:** Provides easy-to-use data structures and data analysis tools.\n",
        "- **NumPy:** Provides support for arrays and matrices, as well as high-level mathematical functions.\n",
        "- **Matplotlib:** A library for creating static visualizations, graphs and plots.\n",
        "- **Seaborn:** Built on Matplotlib, it makes it easy to create attractive statistical graphs.\n",
        "- **Scikit-learn:** Provides simple and efficient tools for predictive analytics and machine learning.\n",
        "- **TensorFlow and Keras:** For deep learning, facilitating the construction and training of neural network models.\n",
        "- **PyTorch:** Another popular library for deep learning, with a focus on flexibility and speed.\n",
        "- **Statsmodels:** Provides classes and functions for estimating many different statistical models, performing statistical tests, and exploring data."
      ],
      "metadata": {
        "id": "MsUVbWtu6r9g"
      }
    },
    {
      "cell_type": "markdown",
      "source": [
        "Data Science Tools\n",
        "\n",
        "| Tool | Description |\n",
        "|--------------------------|-------------------------- -----------------------------|\n",
        "| Jupyter Notebook | Interactive environment to run Python code and more |\n",
        "| RStudio | Integrated environment to work with the R language |\n",
        "| Anaconda | Platform that includes Python and many libraries |\n",
        "| Tableau | Software for data visualization and analysis |\n",
        "| Power BI | Microsoft tool for analysis and visualization |\n",
        "| Apache Spark | Data analysis engine for big data processing |\n",
        "| Databricks | Apache Spark-based platform for data analysis |\n",
        "| KNIME | Open source platform for data analysis |\n",
        "| SAS | Software for statistical analysis and data mining |\n",
        "| RapidMiner | Tool for data analysis and machine learning |\n",
        "| H2O.ai | Machine learning and predictive analytics platform |\n",
        "| DataRobot | Automated Machine Learning Platform |\n",
        "\n",
        "This table provides an overview of some common tools used in the field of data science."
      ],
      "metadata": {
        "jp-MarkdownHeadingCollapsed": true,
        "tags": [],
        "id": "V6AvimHc6r9u"
      }
    },
    {
      "cell_type": "markdown",
      "source": [
        "Introducing examples of arithmetic expressions"
      ],
      "metadata": {
        "id": "H1lq_aYy6r93"
      }
    },
    {
      "cell_type": "markdown",
      "source": [
        "Addition and multiplication of two numbers"
      ],
      "metadata": {
        "id": "2a6hUVst6r98"
      }
    },
    {
      "cell_type": "code",
      "source": [
        "x = 6\n",
        "y = 5\n",
        "s = x + y\n",
        "m = x * y\n",
        "print(\"La suma es\",s)\n",
        "print(\"La multiplicacion es\",m)"
      ],
      "metadata": {
        "trusted": true,
        "id": "Fa9ilF4I6r9-",
        "outputId": "d622557e-8218-4c39-c65d-586470dac10c",
        "colab": {
          "base_uri": "https://localhost:8080/"
        }
      },
      "execution_count": 2,
      "outputs": [
        {
          "output_type": "stream",
          "name": "stdout",
          "text": [
            "La suma es 11\n",
            "La multiplicacion es 30\n"
          ]
        }
      ]
    },
    {
      "cell_type": "markdown",
      "source": [
        "Convert minutes to hours."
      ],
      "metadata": {
        "id": "Dn68X34L6r-O"
      }
    },
    {
      "cell_type": "code",
      "source": [
        "\n",
        "hr = 1\n",
        "minu =60\n",
        "x = 80\n",
        "hr = hr * x/ minu\n",
        "print(\"80 minutos tiene las siguientes hora\",hr)\n"
      ],
      "metadata": {
        "trusted": true,
        "id": "Q0vspekI6r-Q",
        "outputId": "8c5eac84-38fe-44af-c56a-6c0a467640cb",
        "colab": {
          "base_uri": "https://localhost:8080/"
        }
      },
      "execution_count": 3,
      "outputs": [
        {
          "output_type": "stream",
          "name": "stdout",
          "text": [
            "80 minutos tiene las siguientes hora 1.3333333333333333\n"
          ]
        }
      ]
    },
    {
      "cell_type": "markdown",
      "source": [
        " Código para listar Objetivos"
      ],
      "metadata": {
        "id": "rCcpqzcx6r-S"
      }
    },
    {
      "cell_type": "code",
      "source": [
        "# Lista de Objetivos\n",
        "\n",
        "objetivos = [\n",
        "    \"Gracias a la vida \",\n",
        "    \"Aprender modelos analisis de datos es excelente\",\n",
        "    \"Desarrollar habilidades en visualización de datos\",\n",
        "    \"Entender y aplicar técnicas de preprocesamiento de datos\",\n",
        "\n",
        "]\n",
        "\n",
        "# Mostrar la lista de objetivos\n",
        "for idx, objetivo in enumerate(objetivos, 1):\n",
        "    print(f\"Objetivo {idx}: {objetivo}\")"
      ],
      "metadata": {
        "trusted": true,
        "colab": {
          "base_uri": "https://localhost:8080/"
        },
        "id": "c6xG3oUz6r-U",
        "outputId": "9de49d5a-9d2b-4613-f90b-7aff09c4659b"
      },
      "execution_count": 4,
      "outputs": [
        {
          "output_type": "stream",
          "name": "stdout",
          "text": [
            "Objetivo 1: Gracias a la vida \n",
            "Objetivo 2: Aprender modelos analisis de datos es excelente\n",
            "Objetivo 3: Desarrollar habilidades en visualización de datos\n",
            "Objetivo 4: Entender y aplicar técnicas de preprocesamiento de datos\n"
          ]
        }
      ]
    },
    {
      "cell_type": "code",
      "source": [],
      "metadata": {
        "id": "wXiMLj2sEOdV"
      },
      "execution_count": null,
      "outputs": []
    },
    {
      "cell_type": "markdown",
      "source": [
        "Autor: Ramon Emilio Gonzalez Rodriguez"
      ],
      "metadata": {
        "id": "FuLqZg056r-V"
      }
    },
    {
      "cell_type": "code",
      "source": [],
      "metadata": {
        "id": "Te2zWOwe6r-b"
      },
      "execution_count": null,
      "outputs": []
    }
  ]
}