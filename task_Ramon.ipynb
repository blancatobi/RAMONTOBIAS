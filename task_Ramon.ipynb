{
  "metadata": {
    "toc-autonumbering": true,
    "language_info": {
      "codemirror_mode": {
        "name": "python",
        "version": 3
      },
      "file_extension": ".py",
      "mimetype": "text/x-python",
      "name": "python",
      "nbconvert_exporter": "python",
      "pygments_lexer": "ipython3",
      "version": "3.8"
    },
    "kernelspec": {
      "name": "python",
      "display_name": "Python (Pyodide)",
      "language": "python"
    },
    "colab": {
      "provenance": [],
      "include_colab_link": true
    }
  },
  "nbformat_minor": 0,
  "nbformat": 4,
  "cells": [
    {
      "cell_type": "markdown",
      "metadata": {
        "id": "view-in-github",
        "colab_type": "text"
      },
      "source": [
        "<a href=\"https://colab.research.google.com/github/blancatobi/RAMONTOBIAS/blob/main/task_Ramon.ipynb\" target=\"_parent\"><img src=\"https://colab.research.google.com/assets/colab-badge.svg\" alt=\"Open In Colab\"/></a>"
      ]
    },
    {
      "cell_type": "markdown",
      "source": [
        "### Data Science Tools and Ecosystem"
      ],
      "metadata": {
        "id": "adKm3B2If46l"
      }
    },
    {
      "cell_type": "markdown",
      "source": [
        "In this notebook, Data Science Tools and Ecosystem are summarized\n",
        "\n"
      ],
      "metadata": {
        "id": "_MQGIBXzgPRl"
      }
    },
    {
      "cell_type": "markdown",
      "source": [
        "Objectives:\n",
        "\n",
        "\n",
        "*Add comments to code cells\n",
        "*Create markdown cells\n",
        "*Add ordered and lists to markdown cells\n",
        "*Format content of markdown cells with heading styles\n",
        "\n",
        "\n",
        "\n",
        "\n",
        "\n",
        "\n"
      ],
      "metadata": {
        "id": "WbZYdWrggt0I"
      }
    },
    {
      "cell_type": "markdown",
      "source": [
        "Some of popular languages that Data Scientists use are:\n",
        "\n",
        "1. Python\n",
        "2. R\n",
        "3.SQL\n",
        "4.Scala\n"
      ],
      "metadata": {
        "id": "NXD-h44v6r9d"
      }
    },
    {
      "cell_type": "markdown",
      "source": [
        "Data Science Libraries\n",
        "\n",
        "Some of the popular libraries in Python for data science include:\n",
        "-**Pandas:** Provides easy-to-use data structures and data analysis tools.\n",
        "- **NumPy:** Provides support for arrays and matrices, as well as high-level mathematical functions.\n",
        "- **Matplotlib:** A library for creating static visualizations, graphs and plots.\n",
        "- **Seaborn:** Built on Matplotlib, it makes it easy to create attractive statistical graphs.\n",
        "- **Scikit-learn:** Provides simple and efficient tools for predictive analytics and machine learning.\n",
        "- **TensorFlow and Keras:** For deep learning, facilitating the construction and training of neural network models.\n",
        "- **PyTorch:** Another popular library for deep learning, with a focus on flexibility and speed.\n",
        "- **Statsmodels:** Provides classes and functions for estimating many different statistical models, performing statistical tests, and exploring data."
      ],
      "metadata": {
        "id": "MsUVbWtu6r9g"
      }
    },
    {
      "cell_type": "markdown",
      "source": [
        "Data Science Tools\n",
        "\n",
        "| Tool | Description |\n",
        "|--------------------------|-------------------------- -----------------------------|\n",
        "| Jupyter Notebook | Interactive environment to run Python code and more |\n",
        "| RStudio | Integrated environment to work with the R language |\n",
        "| Anaconda | Platform that includes Python and many libraries |\n",
        "| Tableau | Software for data visualization and analysis |\n",
        "| Power BI | Microsoft tool for analysis and visualization |\n",
        "| Apache Spark | Data analysis engine for big data processing |\n",
        "| Databricks | Apache Spark-based platform for data analysis |\n",
        "| KNIME | Open source platform for data analysis |\n",
        "| SAS | Software for statistical analysis and data mining |\n",
        "| RapidMiner | Tool for data analysis and machine learning |\n",
        "| H2O.ai | Machine learning and predictive analytics platform |\n",
        "| DataRobot | Automated Machine Learning Platform |\n",
        "\n",
        "This table provides an overview of some common tools used in the field of data science."
      ],
      "metadata": {
        "jp-MarkdownHeadingCollapsed": true,
        "tags": [],
        "id": "V6AvimHc6r9u"
      }
    },
    {
      "cell_type": "markdown",
      "source": [
        "Introducing examples of arithmetic expressions"
      ],
      "metadata": {
        "id": "H1lq_aYy6r93"
      }
    },
    {
      "cell_type": "markdown",
      "source": [
        "This is simple arithmetic expressions in Python"
      ],
      "metadata": {
        "id": "2a6hUVst6r98"
      }
    },
    {
      "cell_type": "code",
      "source": [
        "(3*4)+5"
      ],
      "metadata": {
        "trusted": true,
        "id": "Fa9ilF4I6r9-",
        "outputId": "4c72c761-7600-47f7-8c78-6b9305472083",
        "colab": {
          "base_uri": "https://localhost:8080/"
        }
      },
      "execution_count": null,
      "outputs": [
        {
          "output_type": "execute_result",
          "data": {
            "text/plain": [
              "17"
            ]
          },
          "metadata": {},
          "execution_count": 1
        }
      ]
    },
    {
      "cell_type": "markdown",
      "source": [
        "Convert minutes 80  to hours."
      ],
      "metadata": {
        "id": "Dn68X34L6r-O"
      }
    },
    {
      "cell_type": "code",
      "source": [
        "\n",
        "80/60\n"
      ],
      "metadata": {
        "trusted": true,
        "id": "Q0vspekI6r-Q",
        "outputId": "16c46be9-b3f2-4e61-ccdb-2590f78131ae",
        "colab": {
          "base_uri": "https://localhost:8080/"
        }
      },
      "execution_count": null,
      "outputs": [
        {
          "output_type": "execute_result",
          "data": {
            "text/plain": [
              "1.3333333333333333"
            ]
          },
          "metadata": {},
          "execution_count": 2
        }
      ]
    },
    {
      "cell_type": "code",
      "source": [],
      "metadata": {
        "id": "OicPdVdcjKwC"
      },
      "execution_count": null,
      "outputs": []
    },
    {
      "cell_type": "code",
      "source": [],
      "metadata": {
        "id": "wXiMLj2sEOdV"
      },
      "execution_count": null,
      "outputs": []
    },
    {
      "cell_type": "markdown",
      "source": [
        "Autor: Ramon Emilio Gonzalez Rodriguez"
      ],
      "metadata": {
        "id": "FuLqZg056r-V"
      }
    },
    {
      "cell_type": "code",
      "source": [],
      "metadata": {
        "id": "Te2zWOwe6r-b"
      },
      "execution_count": null,
      "outputs": []
    }
  ]
}